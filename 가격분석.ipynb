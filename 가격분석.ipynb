{
  "nbformat": 4,
  "nbformat_minor": 0,
  "metadata": {
    "colab": {
      "name": "가격분석.ipynb",
      "provenance": [],
      "authorship_tag": "ABX9TyM1/D6jfqAF2g3j+Px+ecsi",
      "include_colab_link": true
    },
    "kernelspec": {
      "name": "python3",
      "display_name": "Python 3"
    }
  },
  "cells": [
    {
      "cell_type": "markdown",
      "metadata": {
        "id": "view-in-github",
        "colab_type": "text"
      },
      "source": [
        "<a href=\"https://colab.research.google.com/github/anteaterst/Data_analytics-1109-1209/blob/main/%EA%B0%80%EA%B2%A9%EB%B6%84%EC%84%9D.ipynb\" target=\"_parent\"><img src=\"https://colab.research.google.com/assets/colab-badge.svg\" alt=\"Open In Colab\"/></a>"
      ]
    },
    {
      "cell_type": "code",
      "metadata": {
        "id": "gmkOKD7rzhnT"
      },
      "source": [
        "#중고 휴대폰 가격 분석\n",
        "# create_date 판매글 올라온 날짜\n",
        "# price 가격\n",
        "# text 게시글\n",
        "# phone_model 휴대폰 기종\n",
        "# factory_price 원래가격(공정가)\n",
        "# maker 휴대폰 제조사\n",
        "# price_index 판매글 올라온 시점의 물가 지수"
      ],
      "execution_count": null,
      "outputs": []
    },
    {
      "cell_type": "code",
      "metadata": {
        "id": "6PCl6K8n0Eb8"
      },
      "source": [
        "import pandas as pd\n",
        "import numpy as np\n",
        "import matplotlib.pyplot as plt\n",
        "import seaborn as sns"
      ],
      "execution_count": null,
      "outputs": []
    },
    {
      "cell_type": "code",
      "metadata": {
        "id": "bjh7Bx8b01ko",
        "outputId": "55935b3c-2de0-4a32-b055-98ee378c1a89",
        "colab": {
          "base_uri": "https://localhost:8080/",
          "height": 474
        }
      },
      "source": [
        "df = pd.read_csv(\"used_mobile_phone.csv\")\n",
        "print(df.info())\n",
        "df.head()"
      ],
      "execution_count": null,
      "outputs": [
        {
          "output_type": "stream",
          "text": [
            "<class 'pandas.core.frame.DataFrame'>\n",
            "RangeIndex: 4951 entries, 0 to 4950\n",
            "Data columns (total 7 columns):\n",
            " #   Column         Non-Null Count  Dtype  \n",
            "---  ------         --------------  -----  \n",
            " 0   create_date    4951 non-null   object \n",
            " 1   price          4951 non-null   float64\n",
            " 2   text           4951 non-null   object \n",
            " 3   phone_model    4951 non-null   object \n",
            " 4   factory_price  4951 non-null   int64  \n",
            " 5   maker          4951 non-null   object \n",
            " 6   price_index    4951 non-null   float64\n",
            "dtypes: float64(2), int64(1), object(4)\n",
            "memory usage: 270.9+ KB\n",
            "None\n"
          ],
          "name": "stdout"
        },
        {
          "output_type": "execute_result",
          "data": {
            "text/html": [
              "<div>\n",
              "<style scoped>\n",
              "    .dataframe tbody tr th:only-of-type {\n",
              "        vertical-align: middle;\n",
              "    }\n",
              "\n",
              "    .dataframe tbody tr th {\n",
              "        vertical-align: top;\n",
              "    }\n",
              "\n",
              "    .dataframe thead th {\n",
              "        text-align: right;\n",
              "    }\n",
              "</style>\n",
              "<table border=\"1\" class=\"dataframe\">\n",
              "  <thead>\n",
              "    <tr style=\"text-align: right;\">\n",
              "      <th></th>\n",
              "      <th>create_date</th>\n",
              "      <th>price</th>\n",
              "      <th>text</th>\n",
              "      <th>phone_model</th>\n",
              "      <th>factory_price</th>\n",
              "      <th>maker</th>\n",
              "      <th>price_index</th>\n",
              "    </tr>\n",
              "  </thead>\n",
              "  <tbody>\n",
              "    <tr>\n",
              "      <th>0</th>\n",
              "      <td>2017-03-19  4 35 00 PM</td>\n",
              "      <td>550000.0</td>\n",
              "      <td>아이폰6플러스 블랙+애플라이트 64기가 팝니다  아이폰6플러스 블랙+애플라이트 64...</td>\n",
              "      <td>iphone 6 64gb</td>\n",
              "      <td>924000</td>\n",
              "      <td>apple</td>\n",
              "      <td>95.96</td>\n",
              "    </tr>\n",
              "    <tr>\n",
              "      <th>1</th>\n",
              "      <td>2016-10-26  12 08 00 PM</td>\n",
              "      <td>380000.0</td>\n",
              "      <td>갤럭시s6엣지 32기가 팝니다 직거래  갤럭시s6엣지 32기가 품명 갤럭시s6엣지제...</td>\n",
              "      <td>galaxy s6 edge 32gb</td>\n",
              "      <td>979000</td>\n",
              "      <td>samsung</td>\n",
              "      <td>103.05</td>\n",
              "    </tr>\n",
              "    <tr>\n",
              "      <th>2</th>\n",
              "      <td>2016-10-25  12 52 00 PM</td>\n",
              "      <td>300000.0</td>\n",
              "      <td>갤럭시s6 풀박스로 팝니다~~~ 새상품급  실기스조차 없어요  직접거래 구매한지 1...</td>\n",
              "      <td>galaxy s6 32gb</td>\n",
              "      <td>854000</td>\n",
              "      <td>samsung</td>\n",
              "      <td>103.05</td>\n",
              "    </tr>\n",
              "    <tr>\n",
              "      <th>3</th>\n",
              "      <td>2017-03-23  11 14 00 PM</td>\n",
              "      <td>290000.0</td>\n",
              "      <td>sk  g5 티탄 폰 단품판매합니다  직접거래 sk g5 티탄 폰 단품판매합니다 올...</td>\n",
              "      <td>lg g5 32gb</td>\n",
              "      <td>836000</td>\n",
              "      <td>lg</td>\n",
              "      <td>95.96</td>\n",
              "    </tr>\n",
              "    <tr>\n",
              "      <th>4</th>\n",
              "      <td>2016-04-11  7 35 00 PM</td>\n",
              "      <td>280000.0</td>\n",
              "      <td>sony 엑스페리아 c5 ultra e5506 16gb  미사용 새제품 팝니다 1...</td>\n",
              "      <td>lg u 32gb</td>\n",
              "      <td>396000</td>\n",
              "      <td>lg</td>\n",
              "      <td>102.59</td>\n",
              "    </tr>\n",
              "  </tbody>\n",
              "</table>\n",
              "</div>"
            ],
            "text/plain": [
              "               create_date     price  ...    maker price_index\n",
              "0   2017-03-19  4 35 00 PM  550000.0  ...    apple       95.96\n",
              "1  2016-10-26  12 08 00 PM  380000.0  ...  samsung      103.05\n",
              "2  2016-10-25  12 52 00 PM  300000.0  ...  samsung      103.05\n",
              "3  2017-03-23  11 14 00 PM  290000.0  ...       lg       95.96\n",
              "4   2016-04-11  7 35 00 PM  280000.0  ...       lg      102.59\n",
              "\n",
              "[5 rows x 7 columns]"
            ]
          },
          "metadata": {
            "tags": []
          },
          "execution_count": 3
        }
      ]
    },
    {
      "cell_type": "code",
      "metadata": {
        "id": "hiN1mw1L1Q41"
      },
      "source": [
        "df['month'] = df['create_date'].apply(lambda x: x[:7])"
      ],
      "execution_count": null,
      "outputs": []
    },
    {
      "cell_type": "code",
      "metadata": {
        "id": "0qPgy2RY2hL4",
        "outputId": "4ff26929-e552-4124-d36f-a4d85f5d8fbd",
        "colab": {
          "base_uri": "https://localhost:8080/"
        }
      },
      "source": [
        "df['month'].value_counts()\n",
        "\n",
        "# 이 데이터는 2016 10 2017 3월에 집중적으로 판매가 이루어졌다."
      ],
      "execution_count": null,
      "outputs": [
        {
          "output_type": "execute_result",
          "data": {
            "text/plain": [
              "2016-10    2956\n",
              "2017-03    1311\n",
              "2016-08     107\n",
              "2016-09     105\n",
              "2016-04     102\n",
              "2016-05      89\n",
              "2016-06      76\n",
              "2016-07      74\n",
              "2016-03      70\n",
              "2016-02      61\n",
              "Name: month, dtype: int64"
            ]
          },
          "metadata": {
            "tags": []
          },
          "execution_count": 5
        }
      ]
    },
    {
      "cell_type": "code",
      "metadata": {
        "id": "AdbkQYf43OLz",
        "outputId": "c6a77f53-94b2-430a-d7cd-49c94fa43d45",
        "colab": {
          "base_uri": "https://localhost:8080/",
          "height": 266
        }
      },
      "source": [
        "df['month'].value_counts().plot.pie()"
      ],
      "execution_count": null,
      "outputs": [
        {
          "output_type": "execute_result",
          "data": {
            "text/plain": [
              "<matplotlib.axes._subplots.AxesSubplot at 0x7fb858c1cdd8>"
            ]
          },
          "metadata": {
            "tags": []
          },
          "execution_count": 6
        },
        {
          "output_type": "display_data",
          "data": {
            "image/png": "[encoded data removed]",
            "text/plain": [
              "<Figure size 432x288 with 1 Axes>"
            ]
          },
          "metadata": {
            "tags": []
          }
        }
      ]
    },
    {
      "cell_type": "code",
      "metadata": {
        "id": "DCo2f4zg38DA"
      },
      "source": [
        "df_day = pd.to_datetime(df['create_date'].apply(lambda x: x[:10])).value_counts()"
      ],
      "execution_count": null,
      "outputs": []
    },
    {
      "cell_type": "code",
      "metadata": {
        "id": "EYHs2-OX4N-_",
        "outputId": "7ae0208f-1d81-4d89-d7ac-873db29073cc",
        "colab": {
          "base_uri": "https://localhost:8080/",
          "height": 281
        }
      },
      "source": [
        "df_day.plot()\n",
        "#데이터의 개수를 일자별 시계열 그래프로 나타냈다. "
      ],
      "execution_count": null,
      "outputs": [
        {
          "output_type": "execute_result",
          "data": {
            "text/plain": [
              "<matplotlib.axes._subplots.AxesSubplot at 0x7fb85742e0f0>"
            ]
          },
          "metadata": {
            "tags": []
          },
          "execution_count": 8
        },
        {
          "output_type": "display_data",
          "data": {
            "image/png": "[encoded data removed]",
            "text/plain": [
              "<Figure size 432x288 with 1 Axes>"
            ]
          },
          "metadata": {
            "tags": [],
            "needs_background": "light"
          }
        }
      ]
    },
    {
      "cell_type": "code",
      "metadata": {
        "id": "RlGdZqAD4d7Y",
        "outputId": "a8006378-1b22-479c-daac-790c6b80447e",
        "colab": {
          "base_uri": "https://localhost:8080/",
          "height": 296
        }
      },
      "source": [
        "df['price'].hist(bins='auto')\n",
        "#거래되고 있는 중고 폰들의 가격이 60만원 이하의 가격대를 형성하고 있다. "
      ],
      "execution_count": null,
      "outputs": [
        {
          "output_type": "execute_result",
          "data": {
            "text/plain": [
              "<matplotlib.axes._subplots.AxesSubplot at 0x7fb8573f1048>"
            ]
          },
          "metadata": {
            "tags": []
          },
          "execution_count": 9
        },
        {
          "output_type": "display_data",
          "data": {
            "image/png": "[encoded data removed]",
            "text/plain": [
              "<Figure size 432x288 with 1 Axes>"
            ]
          },
          "metadata": {
            "tags": [],
            "needs_background": "light"
          }
        }
      ]
    },
    {
      "cell_type": "code",
      "metadata": {
        "id": "FoT4dWI65GAv"
      },
      "source": [
        "# 동길 기종 내에서의 가격 분포를 살펴보자. 이를 위해 phone_model 을 groupby 계산해보자 \n",
        "df_price_model_mean = df.groupby('phone_model')['price'].transform(lambda x: np.mean(x))"
      ],
      "execution_count": null,
      "outputs": []
    },
    {
      "cell_type": "code",
      "metadata": {
        "id": "gxKY2riN6bcw"
      },
      "source": [
        "df_price_model_std = df.groupby('phone_model')['price'].transform(lambda x: np.std(x))"
      ],
      "execution_count": null,
      "outputs": []
    },
    {
      "cell_type": "code",
      "metadata": {
        "id": "B1PT-YmV6pwN"
      },
      "source": [
        "# z-score 해당 값이(가격) 평균에 비해 어느 정도 높거나 낮은지를 알 수 있다.\n",
        "# z-score = (값 - 평균) / 표준 편차"
      ],
      "execution_count": null,
      "outputs": []
    },
    {
      "cell_type": "code",
      "metadata": {
        "id": "Qt8DzxJk7Wf_"
      },
      "source": [
        "df_price_model_z_score = (df['price']-df_price_model_mean)/df_price_model_std"
      ],
      "execution_count": null,
      "outputs": []
    },
    {
      "cell_type": "code",
      "metadata": {
        "id": "EnAHSHJw7tlv",
        "outputId": "5b6e1c9d-707e-48d9-b163-bdcdc12fc209",
        "colab": {
          "base_uri": "https://localhost:8080/",
          "height": 283
        }
      },
      "source": [
        "df_price_model_z_score.hist(bins='auto')"
      ],
      "execution_count": null,
      "outputs": [
        {
          "output_type": "execute_result",
          "data": {
            "text/plain": [
              "<matplotlib.axes._subplots.AxesSubplot at 0x7fb85735a2e8>"
            ]
          },
          "metadata": {
            "tags": []
          },
          "execution_count": 14
        },
        {
          "output_type": "display_data",
          "data": {
            "image/png": "[encoded data removed]",
            "text/plain": [
              "<Figure size 432x288 with 1 Axes>"
            ]
          },
          "metadata": {
            "tags": [],
            "needs_background": "light"
          }
        }
      ]
    },
    {
      "cell_type": "code",
      "metadata": {
        "id": "Mr9CJacd72Do",
        "outputId": "4dd57182-ff9e-4a11-f316-5333e27cdd44",
        "colab": {
          "base_uri": "https://localhost:8080/",
          "height": 296
        }
      },
      "source": [
        "# factory_price 의 분포 price 와의 관계를 탐색\n",
        "df['factory_price'].hist(bins='auto')"
      ],
      "execution_count": null,
      "outputs": [
        {
          "output_type": "execute_result",
          "data": {
            "text/plain": [
              "<matplotlib.axes._subplots.AxesSubplot at 0x7fb85732bf60>"
            ]
          },
          "metadata": {
            "tags": []
          },
          "execution_count": 15
        },
        {
          "output_type": "display_data",
          "data": {
            "image/png": "[encoded data removed]",
            "text/plain": [
              "<Figure size 432x288 with 1 Axes>"
            ]
          },
          "metadata": {
            "tags": [],
            "needs_background": "light"
          }
        }
      ]
    },
    {
      "cell_type": "code",
      "metadata": {
        "id": "wQo8WU2080_2",
        "outputId": "d432fbf6-cd65-4e56-fc2d-f882e5816f89",
        "colab": {
          "base_uri": "https://localhost:8080/",
          "height": 296
        }
      },
      "source": [
        "df['price'].hist(bins='auto')"
      ],
      "execution_count": null,
      "outputs": [
        {
          "output_type": "execute_result",
          "data": {
            "text/plain": [
              "<matplotlib.axes._subplots.AxesSubplot at 0x7fb85702b6a0>"
            ]
          },
          "metadata": {
            "tags": []
          },
          "execution_count": 16
        },
        {
          "output_type": "display_data",
          "data": {
            "image/png": "[encoded data removed]",
            "text/plain": [
              "<Figure size 432x288 with 1 Axes>"
            ]
          },
          "metadata": {
            "tags": [],
            "needs_background": "light"
          }
        }
      ]
    },
    {
      "cell_type": "code",
      "metadata": {
        "id": "eC-tqVbj9T5X",
        "outputId": "258cb7d9-9767-44c8-b0de-076d341c9c6c",
        "colab": {
          "base_uri": "https://localhost:8080/",
          "height": 309
        }
      },
      "source": [
        "df.plot.scatter(x='factory_price', y = 'price')\n",
        "\n",
        "# 두 피처의 값들이 양의 상관 관계를 가지고 있다.\n",
        "# factory_price는 중고 가격에 중요한 영향을 미칠 것이다. 라고 추정해볼 수 있다."
      ],
      "execution_count": null,
      "outputs": [
        {
          "output_type": "execute_result",
          "data": {
            "text/plain": [
              "<matplotlib.axes._subplots.AxesSubplot at 0x7fb856f756a0>"
            ]
          },
          "metadata": {
            "tags": []
          },
          "execution_count": 17
        },
        {
          "output_type": "display_data",
          "data": {
            "image/png": "[encoded data removed]",
            "text/plain": [
              "<Figure size 432x288 with 1 Axes>"
            ]
          },
          "metadata": {
            "tags": [],
            "needs_background": "light"
          }
        }
      ]
    },
    {
      "cell_type": "code",
      "metadata": {
        "id": "dKtPWXzvAKKZ",
        "outputId": "82902687-a7a5-4887-cefd-ef33e3a4fc76",
        "colab": {
          "base_uri": "https://localhost:8080/"
        }
      },
      "source": [
        "# 기종 별 총 거래 개수를 집계한다\n",
        "\n",
        "model_counts = df['phone_model'].value_counts()\n",
        "print(model_counts)"
      ],
      "execution_count": null,
      "outputs": [
        {
          "output_type": "stream",
          "text": [
            "iphone 6 64gb          1002\n",
            "iphone 6 16gb           591\n",
            "galaxy note3 32gb       231\n",
            "iphone se 64gb          216\n",
            "galaxy note5 32gb       167\n",
            "                       ... \n",
            "iphone 7 plus 32gb       12\n",
            "iphone 6s Plus 16gb      12\n",
            "iphone 4s 16gb           11\n",
            "iphone 7 plus 256gb      11\n",
            "iphone 6 32gb            10\n",
            "Name: phone_model, Length: 64, dtype: int64\n"
          ],
          "name": "stdout"
        }
      ]
    },
    {
      "cell_type": "code",
      "metadata": {
        "id": "8YUZhKFcA7Ix",
        "outputId": "f114eac8-a060-4d67-f7bb-0198ad4c7b5e",
        "colab": {
          "base_uri": "https://localhost:8080/",
          "height": 409
        }
      },
      "source": [
        "plt.boxplot(model_counts)"
      ],
      "execution_count": null,
      "outputs": [
        {
          "output_type": "execute_result",
          "data": {
            "text/plain": [
              "{'boxes': [<matplotlib.lines.Line2D at 0x7fb856f0b630>],\n",
              " 'caps': [<matplotlib.lines.Line2D at 0x7fb856f1c080>,\n",
              "  <matplotlib.lines.Line2D at 0x7fb856f1c400>],\n",
              " 'fliers': [<matplotlib.lines.Line2D at 0x7fb856f1cb00>],\n",
              " 'means': [],\n",
              " 'medians': [<matplotlib.lines.Line2D at 0x7fb856f1c780>],\n",
              " 'whiskers': [<matplotlib.lines.Line2D at 0x7fb856f0b940>,\n",
              "  <matplotlib.lines.Line2D at 0x7fb856f0bcc0>]}"
            ]
          },
          "metadata": {
            "tags": []
          },
          "execution_count": 19
        },
        {
          "output_type": "display_data",
          "data": {
            "image/png": "[encoded data removed]",
            "text/plain": [
              "<Figure size 432x288 with 1 Axes>"
            ]
          },
          "metadata": {
            "tags": [],
            "needs_background": "light"
          }
        }
      ]
    },
    {
      "cell_type": "code",
      "metadata": {
        "id": "aj9az4P7BmWk",
        "outputId": "f108a928-e083-4f1e-f173-b6aa474374d2",
        "colab": {
          "base_uri": "https://localhost:8080/",
          "height": 597
        }
      },
      "source": [
        "plt.figure(figsize=(10,10))\n",
        "sns.heatmap(df.corr(), linewidths=0.01, square = True,\n",
        "            annot = True, cmap=plt.cm.viridis, linecolor=\"white\")\n",
        "plt.title('min seong')\n",
        "\n"
      ],
      "execution_count": null,
      "outputs": [
        {
          "output_type": "execute_result",
          "data": {
            "text/plain": [
              "Text(0.5, 1.0, 'min seong')"
            ]
          },
          "metadata": {
            "tags": []
          },
          "execution_count": 20
        },
        {
          "output_type": "display_data",
          "data": {
            "image/png": "[encoded data removed]",
            "text/plain": [
              "<Figure size 720x720 with 2 Axes>"
            ]
          },
          "metadata": {
            "tags": [],
            "needs_background": "light"
          }
        }
      ]
    },
    {
      "cell_type": "markdown",
      "metadata": {
        "id": "KmiK19CXHHri"
      },
      "source": [
        " 랜덤 포레스트 모델 (random Froest Model) \n",
        "\n",
        "\n",
        "# 의사결정나무 (Decision Tree Model) 모델을 응용 한 것으로 의사 결정 나무를 여러개 모아 하나의 숲을 구성하는 방법, 하나의 모델이 정답을 푸는 게 아닌여러개의 모델이 정답을 함께 푸는 것 이기 때문에 더 정확한 학습이 가능하다 또한 이방법은 모델이 생성되는 과정에서의 피처 중요도 까지 계산하기 때문에 탐색적 분석 작업에서 아주 많이 사용 되는 모델이다. 회귀 분류 두가지에 모두 사용된다 "
      ]
    },
    {
      "cell_type": "code",
      "metadata": {
        "id": "Vb0UtwGCHms4"
      },
      "source": [
        "from sklearn.model_selection import train_test_split\n",
        "from sklearn.feature_extraction import DictVectorizer\n",
        "from sklearn.ensemble import RandomForestRegressor\n",
        "from sklearn.metrics import r2_score\n",
        "from sklearn.metrics import mean_squared_error\n",
        "\n",
        "\n",
        "# 데이터를 학습 / 테스트 용으로 분리한다 \n",
        "df = df[['price','phone_model','factory_price','maker','price_index','month']]"
      ],
      "execution_count": null,
      "outputs": []
    },
    {
      "cell_type": "code",
      "metadata": {
        "id": "H1yrQfXfIBZP"
      },
      "source": [
        "df = pd.get_dummies(df, columns=['phone_model','maker','month'])\n",
        "X = df.loc[:,df.columns != 'price']\n",
        "y = df['price']\n",
        "# 트레이닝 데이터와 테스트 데이터로 분리\n",
        "X_train, X_test, y_train, y_test = train_test_split(X, y, \n",
        "                                                    test_size=0.3, random_state=0)\n",
        "# 모델 사용\n",
        "forest = RandomForestRegressor(n_estimators=1000,\n",
        "                               criterion='mse')\n",
        "forest.fit(X_train, y_train)\n",
        "\n",
        "y_train_pred = forest.predict(X_train)\n",
        "y_test_pred = forest.predict(X_test)"
      ],
      "execution_count": null,
      "outputs": []
    },
    {
      "cell_type": "code",
      "metadata": {
        "id": "3NBwEF0BPYyw",
        "outputId": "d330c223-ae7a-4cd2-cef5-e1957c7ece40",
        "colab": {
          "base_uri": "https://localhost:8080/"
        }
      },
      "source": [
        "from sklearn.model_selection import train_test_split\n",
        "from sklearn.feature_extraction import DictVectorizer\n",
        "from sklearn.ensemble import RandomForestRegressor\n",
        "from sklearn.metrics import r2_score\n",
        "from sklearn.metrics import mean_squared_error\n",
        "\n",
        "df = pd.read_csv(\"used_mobile_phone.csv\")\n",
        "print(df.info())\n",
        "df.head()\n",
        "df['month'] = df['create_date'].apply(lambda x: x[:7])\n",
        "\n",
        "\n",
        "# 데이터를 학습/테스트용 데이터로 분리합니다.\n",
        "df = df[['price', 'phone_model', 'factory_price', 'maker', 'price_index', 'month']]\n",
        "df = pd.get_dummies(df, columns=['phone_model', 'maker', 'month'])\n",
        "X = df.loc[:, df.columns != 'price']\n",
        "y = df['price']\n",
        "X_train, X_test, y_train, y_test = train_test_split(X, y, test_size=0.3, random_state=0)\n",
        "\n",
        "# 랜덤 포레스트 모델을 학습합니다.\n",
        "forest = RandomForestRegressor(n_estimators=1000,\n",
        "                               criterion='mse')\n",
        "forest.fit(X_train, y_train)\n",
        "y_train_pred = forest.predict(X_train)\n",
        "y_test_pred = forest.predict(X_test)\n",
        "\n",
        "# 학습한 모델을 평가합니다.\n",
        "print('MSE train: %.3f, test: %.3f' % (\n",
        "        mean_squared_error(y_train, y_train_pred),\n",
        "        mean_squared_error(y_test, y_test_pred)))\n",
        "print('R^2 train: %.3f, test: %.3f' % (\n",
        "        r2_score(y_train, y_train_pred),\n",
        "        r2_score(y_test, y_test_pred)))"
      ],
      "execution_count": null,
      "outputs": [
        {
          "output_type": "stream",
          "text": [
            "<class 'pandas.core.frame.DataFrame'>\n",
            "RangeIndex: 4951 entries, 0 to 4950\n",
            "Data columns (total 7 columns):\n",
            " #   Column         Non-Null Count  Dtype  \n",
            "---  ------         --------------  -----  \n",
            " 0   create_date    4951 non-null   object \n",
            " 1   price          4951 non-null   float64\n",
            " 2   text           4951 non-null   object \n",
            " 3   phone_model    4951 non-null   object \n",
            " 4   factory_price  4951 non-null   int64  \n",
            " 5   maker          4951 non-null   object \n",
            " 6   price_index    4951 non-null   float64\n",
            "dtypes: float64(2), int64(1), object(4)\n",
            "memory usage: 270.9+ KB\n",
            "None\n",
            "MSE train: 10630348012.875, test: 13859654316.449\n",
            "R^2 train: 0.781, test: 0.683\n"
          ],
          "name": "stdout"
        }
      ]
    },
    {
      "cell_type": "code",
      "metadata": {
        "id": "Vw8NFsrIJR4B",
        "outputId": "08dfc532-c501-49ee-fb18-fbc969314ff5",
        "colab": {
          "base_uri": "https://localhost:8080/",
          "height": 283
        }
      },
      "source": [
        "#피처 값들의 중요도를 분석\n",
        "\n",
        "importances = forest.feature_importances_\n",
        "indices = np.argsort(importances)\n",
        "\n",
        "plt.bar(range(X.shape[1]),importances[indices])"
      ],
      "execution_count": null,
      "outputs": [
        {
          "output_type": "execute_result",
          "data": {
            "text/plain": [
              "<BarContainer object of 84 artists>"
            ]
          },
          "metadata": {
            "tags": []
          },
          "execution_count": 25
        },
        {
          "output_type": "display_data",
          "data": {
            "image/png": "[encoded data removed]",
            "text/plain": [
              "<Figure size 432x288 with 1 Axes>"
            ]
          },
          "metadata": {
            "tags": [],
            "needs_background": "light"
          }
        }
      ]
    },
    {
      "cell_type": "code",
      "metadata": {
        "id": "pVrfnLsSO-UR",
        "outputId": "3d0f7c05-cc3e-4cb8-ad16-a2313af56781",
        "colab": {
          "base_uri": "https://localhost:8080/"
        }
      },
      "source": [
        "#피처값들의 중요도 출력\n",
        "feat_labels = X.columns.tolist()\n",
        "feature = list(zip(feat_labels, forest.feature_importances_))\n",
        "sorted(feature, key=lambda tup: tup[1], reverse=True)[:10]"
      ],
      "execution_count": null,
      "outputs": [
        {
          "output_type": "execute_result",
          "data": {
            "text/plain": [
              "[('factory_price', 0.4062557440414678),\n",
              " ('maker_apple', 0.2973131649317375),\n",
              " ('phone_model_galaxy s3 3g 8gb', 0.022232410152033158),\n",
              " ('phone_model_iphone se 64gb', 0.0214146046083154),\n",
              " ('price_index', 0.020668029769799614),\n",
              " ('phone_model_galaxy s4 32gb', 0.017363722904626067),\n",
              " ('maker_samsung', 0.01511237686432063),\n",
              " ('month_2017-03', 0.014858653730083805),\n",
              " ('phone_model_galaxy s6 32gb', 0.012488758059955378),\n",
              " ('month_2016-05', 0.010789701543459245)]"
            ]
          },
          "metadata": {
            "tags": []
          },
          "execution_count": 32
        }
      ]
    },
    {
      "cell_type": "code",
      "metadata": {
        "id": "7y0UGaSRPv5t",
        "outputId": "0415375d-d77b-4e80-aec6-6c4027f91fc3",
        "colab": {
          "base_uri": "https://localhost:8080/"
        }
      },
      "source": [
        "# 피처의 값등 중에서 영향력이 높은 순으로 출력\n",
        "for sorted_feature in sorted(feature, key=lambda tup: tup[1], reverse=True):\n",
        "  if \"month\" in sorted_feature[0]:\n",
        "    print(sorted_feature)"
      ],
      "execution_count": null,
      "outputs": [
        {
          "output_type": "stream",
          "text": [
            "('month_2017-03', 0.014858653730083805)\n",
            "('month_2016-05', 0.010789701543459245)\n",
            "('month_2016-09', 0.00836821198424645)\n",
            "('month_2016-04', 0.007648198460488991)\n",
            "('month_2016-10', 0.0062316825156532515)\n",
            "('month_2016-06', 0.004495239844856231)\n",
            "('month_2016-08', 0.003787353528433887)\n",
            "('month_2016-07', 0.0027190003967303704)\n",
            "('month_2016-03', 0.002284510804802285)\n",
            "('month_2016-02', 0.001082765881407478)\n"
          ],
          "name": "stdout"
        }
      ]
    },
    {
      "cell_type": "code",
      "metadata": {
        "id": "zxMAb6yHQoe5"
      },
      "source": [
        "# #데이터 분석 결과 종합\n",
        "\n",
        "# 피처\n",
        "# date : 월 단위로 살펴본 결과 2016년 10월과 17년 3월의 데이터가 가장 많다. \n",
        "#        최근에 가까운 달일 수록 중요한 피처이다. \n",
        "\n",
        "# price : 전체 휴대폰의 거래가격과 달리 기종별 가격의 분포는 정규분포 \n",
        "#         형태를 띠고 있다. \n",
        "\n",
        "# factory_price : price 피처와 양의 상관관계, 가장 중요한 피처 \n",
        "# phone_model : 소수의 인기 기종이 많은 데이터를 가지고 있다. \n",
        "# maker :Apple 브랜드가 가장 많고 가격 예측에서도 Apple은 중요한 피처 중 하나\n",
        "# price_index : 월별 변동은 크지 않고 그다지 중요한 피처도 아니다. 물가는 중고가 형성에 있어서 영향이 없다 \n"
      ],
      "execution_count": null,
      "outputs": []
    },
    {
      "cell_type": "code",
      "metadata": {
        "id": "z2NkgHbvSqc3"
      },
      "source": [
        "#데이터 분석 개선\n",
        "\n",
        "# phone_model 이 제품명 + 용량으로 구성되어 있어서 이것을 나누면 2개의 분리된 피처를 얻을 수 있다.\n"
      ],
      "execution_count": null,
      "outputs": []
    },
    {
      "cell_type": "code",
      "metadata": {
        "id": "MhQJrsiTTAtv"
      },
      "source": [
        "df = df[['price','phone_model','factory_price','maker','price_index','month']]\n",
        "df['phone_model_storage'] = df['phone_model'].apply(lambda x: x.split(\" \")[-1])"
      ],
      "execution_count": null,
      "outputs": []
    },
    {
      "cell_type": "code",
      "metadata": {
        "id": "P9Vl89iuT4J-"
      },
      "source": [
        ""
      ],
      "execution_count": null,
      "outputs": []
    }
  ]
}