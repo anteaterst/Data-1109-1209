{
  "nbformat": 4,
  "nbformat_minor": 0,
  "metadata": {
    "colab": {
      "name": "naverAPI.ipynb",
      "provenance": []
    },
    "kernelspec": {
      "name": "python3",
      "display_name": "Python 3"
    }
  },
  "cells": [
    {
      "cell_type": "code",
      "metadata": {
        "id": "uoCR_Yrj8G7T"
      },
      "source": [
        "import urllib.request"
      ],
      "execution_count": 19,
      "outputs": []
    },
    {
      "cell_type": "code",
      "metadata": {
        "id": "TC_OPTwG8cJj"
      },
      "source": [
        "client_id = \"GYoAcBBUgag6SH0WTJsn\"\n",
        "client_secret = \"wm1JRGqTkO\""
      ],
      "execution_count": 20,
      "outputs": []
    },
    {
      "cell_type": "code",
      "metadata": {
        "id": "ft6oxlOb_hMe",
        "outputId": "5367e810-cd44-40c0-991a-bb0c23dce207",
        "colab": {
          "base_uri": "https://localhost:8080/",
          "height": 34
        }
      },
      "source": [
        "\n",
        "encText = urllib.parse.quote(\"aaaa10432\")\n",
        "url = \"https://openapi.naver.com/v1/search/blog.json?query=\" + encText\n",
        "url"
      ],
      "execution_count": 21,
      "outputs": [
        {
          "output_type": "execute_result",
          "data": {
            "application/vnd.google.colaboratory.intrinsic+json": {
              "type": "string"
            },
            "text/plain": [
              "'https://openapi.naver.com/v1/search/blog.json?query=aaaa10432'"
            ]
          },
          "metadata": {
            "tags": []
          },
          "execution_count": 21
        }
      ]
    },
    {
      "cell_type": "code",
      "metadata": {
        "id": "ndE0QFrVCzQX"
      },
      "source": [
        "\n",
        "\n",
        "request = urllib.request.Request(url)\n",
        "request.add_header(\"X-Naver-Client-Id\", client_id)\n",
        "request.add_header(\"X-Naver-Client-Secret\", client_secret)\n"
      ],
      "execution_count": 22,
      "outputs": []
    },
    {
      "cell_type": "code",
      "metadata": {
        "id": "UD5rhF5iC1BE",
        "outputId": "699d43c1-bff3-43fd-b66f-c8410acd4854",
        "colab": {
          "base_uri": "https://localhost:8080/"
        }
      },
      "source": [
        "\n",
        "response = urllib.request.urlopen(request)\n",
        "print(response.getcode())\n",
        "\n",
        "\n",
        "## 200은 정상적인 접근이 허용되었다는 의미의 코드이다.\n"
      ],
      "execution_count": 23,
      "outputs": [
        {
          "output_type": "stream",
          "text": [
            "200\n"
          ],
          "name": "stdout"
        }
      ]
    },
    {
      "cell_type": "code",
      "metadata": {
        "id": "8nVVt5hyC2Hk",
        "outputId": "48c37e9b-8923-4e48-8e05-94614a44f3b8",
        "colab": {
          "base_uri": "https://localhost:8080/"
        }
      },
      "source": [
        "type(response)"
      ],
      "execution_count": 24,
      "outputs": [
        {
          "output_type": "execute_result",
          "data": {
            "text/plain": [
              "http.client.HTTPResponse"
            ]
          },
          "metadata": {
            "tags": []
          },
          "execution_count": 24
        }
      ]
    },
    {
      "cell_type": "code",
      "metadata": {
        "id": "nY0GJvjnDBI8",
        "outputId": "82f37241-b6d9-4d21-d7f4-385bdfad1fc2",
        "colab": {
          "base_uri": "https://localhost:8080/"
        }
      },
      "source": [
        "print(response.read().decode('utf-8'))\n"
      ],
      "execution_count": 25,
      "outputs": [
        {
          "output_type": "stream",
          "text": [
            "{\n",
            "\"lastBuildDate\": \"Tue, 10 Nov 2020 10:16:06 +0900\",\n",
            "\"total\": 70,\n",
            "\"start\": 1,\n",
            "\"display\": 10,\n",
            "\"items\": [\n",
            "{\n",
            "\"title\": \"턱걸이기구/치닝디핑/풀업밴드 '멜킨스포츠 마스터킹 치닝디핑... \",\n",
            "\"link\": \"https:\\/\\/blog.naver.com\\/aaaa10432?Redirect=Log&logNo=221536855854\",\n",
            "\"description\": \"턱걸이기구/치닝디핑/풀업밴드 멜킨스포츠 마스터킹 치닝디핑:운동방법♥ https://blog.naver.com/<b>aaaa10432</b>/221530390455 ↑ ↑ 멜킨스포츠 마스터킹 치닝디핑 개봉기는 여기서 확인하세요~ 초보자의 턱걸이... \",\n",
            "\"bloggername\": \"초이의파워블로그\",\n",
            "\"bloggerlink\": \"https://blog.naver.com/aaaa10432\",\n",
            "\"postdate\": \"20190514\"\n",
            "\n",
            "},\n",
            "{\n",
            "\"title\": \"수입아이스크림/고급아이스크림 '바세츠아이스크림(Feat.... \",\n",
            "\"link\": \"https:\\/\\/blog.naver.com\\/aaaa10432?Redirect=Log&logNo=221444666503\",\n",
            "\"description\": \"com/<b>aaaa10432</b>/221070043311 미국, 유럽, 중국에 이어 한국에서도 맛나볼 수 있게 된 바세츠아이스크림 마산에는 경남대점밖에 없어서 댓거리까지 아이스크림 먹으러 갔었는데 이제 그럴 필요 없다는거... \",\n",
            "\"bloggername\": \"초이의파워블로그\",\n",
            "\"bloggerlink\": \"https://blog.naver.com/aaaa10432\",\n",
            "\"postdate\": \"20190118\"\n",
            "\n",
            "},\n",
            "{\n",
            "\"title\": \"꽃과 함께하는 오랜만에 일상♡(꽃꽂이/영화/먹방/회식)\",\n",
            "\"link\": \"https:\\/\\/blog.naver.com\\/aaaa10432?Redirect=Log&logNo=221413352154\",\n",
            "\"description\": \"요즘 핫한 창원마산키즈미용실 댓거리 #와우키즈헤어 에서 ↓ ↓ https://blog.naver.com/<b>aaaa10432</b>/221397243531 &amp; #일상 #일상이야기 #겨울일상 #11월일상 #12월일상 즐거운 일상이였다! 앞으로도 쭉 행복하길♥\",\n",
            "\"bloggername\": \"초이의파워블로그\",\n",
            "\"bloggerlink\": \"https://blog.naver.com/aaaa10432\",\n",
            "\"postdate\": \"20181206\"\n",
            "\n",
            "},\n",
            "{\n",
            "\"title\": \"네이버메인에 내꺼가 떴어요!\",\n",
            "\"link\": \"https:\\/\\/blog.naver.com\\/aaaa10432?Redirect=Log&logNo=221377040380\",\n",
            "\"description\": \"(나 이런적 처음이라 자랑질 좀 하러 왔어요ㅎㅎ) 네이버메인에 내 글이 떴어요♡ https://blog.naver.com/<b>aaaa10432</b>/221370469755 '' ↑ ↑ 아직 못보신 분들은 클릭 밀양카페/밀양핫플신상카페 '메나쥬(Menage)... \",\n",
            "\"bloggername\": \"초이의파워블로그\",\n",
            "\"bloggerlink\": \"https://blog.naver.com/aaaa10432\",\n",
            "\"postdate\": \"20181014\"\n",
            "\n",
            "},\n",
            "{\n",
            "\"title\": \"창원상남동맛집/상남동고기집 '항우돈'\",\n",
            "\"link\": \"https:\\/\\/blog.naver.com\\/aaaa10432?Redirect=Log&logNo=220834265964\",\n",
            "\"description\": \"com/<b>aaaa10432</b>/220646906821 저번에 항아리 숙성 양념갈비를 너무 맛있게 먹고 와서 이번엔 오겹살먹으러 출동 창원 상남동 맛집 항우돈 내부/분위기 들어갔을땐 손님이 너무 많아서 못찍고 다먹고 우리가 거의... \",\n",
            "\"bloggername\": \"초이의파워블로그\",\n",
            "\"bloggerlink\": \"https://blog.naver.com/aaaa10432\",\n",
            "\"postdate\": \"20161012\"\n",
            "\n",
            "},\n",
            "{\n",
            "\"title\": \"창원대맛집/사림동맛집 '두유라이크'\",\n",
            "\"link\": \"https:\\/\\/blog.naver.com\\/aaaa10432?Redirect=Log&logNo=220758174862\",\n",
            "\"description\": \"http://blog.naver.com/<b>aaaa10432</b>/220758163963 미술관 데이트후 근처맛집을 찾다가 선택한 이곳! 창원맛집 창원맛집추천 창원대맛집 창원대맛집추천 창원대근처맛집 사림동맛집 사림동맛집추천 경남도립미술관맛집... \",\n",
            "\"bloggername\": \"초이의파워블로그\",\n",
            "\"bloggerlink\": \"https://blog.naver.com/aaaa10432\",\n",
            "\"postdate\": \"20160712\"\n",
            "\n",
            "},\n",
            "{\n",
            "\"title\": \"제주도여행)제주하귀맛집/애월해안도로맛집 '칠사돈'\",\n",
            "\"link\": \"https:\\/\\/blog.naver.com\\/aaaa10432?Redirect=Log&logNo=220881861441\",\n",
            "\"description\": \"제주도여행일정/제주도여행코스/제주도여행코스추천/제주도여행루트 http://blog.naver.com/<b>aaaa10432</b>/220880995743 개똥이네 감귤농장에서 감귤체험 열심히 하고 키친오즈/새별오름 들렸다가 맛있는 제주돼지 먹으러... \",\n",
            "\"bloggername\": \"초이의파워블로그\",\n",
            "\"bloggerlink\": \"https://blog.naver.com/aaaa10432\",\n",
            "\"postdate\": \"20161209\"\n",
            "\n",
            "},\n",
            "{\n",
            "\"title\": \"서울여행/서울가볼만한곳)한남동'구슬모아당구장' 무료전시장\",\n",
            "\"link\": \"https:\\/\\/blog.naver.com\\/aaaa10432?Redirect=Log&logNo=220716907035\",\n",
            "\"description\": \"com/<b>aaaa10432</b>/220717857294 주차 tip. 난 한남동 5마일에서 점심먹고 구슬모아당구장 전시 구경하러 갔다 왜냐! 한남동 5마일에서 밥먹으면 건물 주차장 두시간 무료이기 때문! 구슬모아당구장 전시를 보실거면... \",\n",
            "\"bloggername\": \"초이의파워블로그\",\n",
            "\"bloggerlink\": \"https://blog.naver.com/aaaa10432\",\n",
            "\"postdate\": \"20160523\"\n",
            "\n",
            "},\n",
            "{\n",
            "\"title\": \"창원카페/창원롯데백화점맛집 '카페 도레도레'\",\n",
            "\"link\": \"https:\\/\\/blog.naver.com\\/aaaa10432?Redirect=Log&logNo=220845002182\",\n",
            "\"description\": \"naver.com/<b>aaaa10432</b>/220319632106 이때만 해도 내가 창원가면 도레도레 오픈하고 싶다고 그런 꿈을 가지고 있었는데 현실은.. 난 여전히 먹으러 가고 있다 창원 도레도레는 내가 처음으로 오픈하고 싶었는데\",\n",
            "\"bloggername\": \"초이의파워블로그\",\n",
            "\"bloggerlink\": \"https://blog.naver.com/aaaa10432\",\n",
            "\"postdate\": \"20161025\"\n",
            "\n",
            "},\n",
            "{\n",
            "\"title\": \"창원상남동맛집 창원 레스토랑/창원 스테이크 'cookhouse... \",\n",
            "\"link\": \"https:\\/\\/blog.naver.com\\/aaaa10432?Redirect=Log&logNo=220715489836\",\n",
            "\"description\": \"'테이킹'이였을때 샤브샤브 월남쌈 먹고 왔었는데 ↓↓ http://blog.naver.com/<b>aaaa10432</b>/220414032827 새롭게 변신한 '쿡하우스&amp;월남쌈' 에서는 파스타 스테이크 피자 리조또도 즐길수 있다고 해서 이번엔 스테이크... \",\n",
            "\"bloggername\": \"초이의파워블로그\",\n",
            "\"bloggerlink\": \"https://blog.naver.com/aaaa10432\",\n",
            "\"postdate\": \"20160521\"\n",
            "\n",
            "}\n",
            "]\n",
            "}\n",
            "\n"
          ],
          "name": "stdout"
        }
      ]
    },
    {
      "cell_type": "code",
      "metadata": {
        "id": "dvk9kGxqDJ-d"
      },
      "source": [
        "def create_url(api_node,search_text,start_num,disp_num):\n",
        "  base = \"https://openapi.naver.com/v1/search\"\n",
        "  node = \"/\" + api_node + \".json\"\n",
        "  param_query = \"?query=\" + urllib.parse.quote(search_text)\n",
        "  param_start = \"&start=\" + str(start_num)\n",
        "  param_disp = \"&display=\" + str(disp_num)\n",
        "\n",
        "  return base + node + param_query + param_start + param_disp"
      ],
      "execution_count": 26,
      "outputs": []
    },
    {
      "cell_type": "code",
      "metadata": {
        "id": "irqmY90TExZ1",
        "outputId": "600d8e27-8b61-46e7-e0c2-dbf260fc093d",
        "colab": {
          "base_uri": "https://localhost:8080/",
          "height": 34
        }
      },
      "source": [
        "create_url(\"book\",\"TEST\",1,10)"
      ],
      "execution_count": 27,
      "outputs": [
        {
          "output_type": "execute_result",
          "data": {
            "application/vnd.google.colaboratory.intrinsic+json": {
              "type": "string"
            },
            "text/plain": [
              "'https://openapi.naver.com/v1/search/book.json?query=TEST&start=1&display=10'"
            ]
          },
          "metadata": {
            "tags": []
          },
          "execution_count": 27
        }
      ]
    },
    {
      "cell_type": "code",
      "metadata": {
        "id": "aPUNm6GBGD1y"
      },
      "source": [
        "##기본문형##"
      ],
      "execution_count": 28,
      "outputs": []
    },
    {
      "cell_type": "code",
      "metadata": {
        "id": "hLM6VqurpxqJ",
        "outputId": "0c769c8f-a020-4fd3-ce01-be8017515cc5",
        "colab": {
          "base_uri": "https://localhost:8080/"
        }
      },
      "source": [
        "for n in [1,2,3]:  # 반복문 기본 \n",
        "  print(n)    # 들여쓰기 중요"
      ],
      "execution_count": 29,
      "outputs": [
        {
          "output_type": "stream",
          "text": [
            "1\n",
            "2\n",
            "3\n"
          ],
          "name": "stdout"
        }
      ]
    },
    {
      "cell_type": "code",
      "metadata": {
        "id": "1X0HpROSp8tO",
        "outputId": "3bfae4b3-7947-435a-cb30-8cdb06d8463f",
        "colab": {
          "base_uri": "https://localhost:8080/"
        }
      },
      "source": [
        "for n in [1,2,3]:\n",
        "  print(n**2)"
      ],
      "execution_count": 30,
      "outputs": [
        {
          "output_type": "stream",
          "text": [
            "1\n",
            "4\n",
            "9\n"
          ],
          "name": "stdout"
        }
      ]
    },
    {
      "cell_type": "code",
      "metadata": {
        "id": "DoIkDmJyp0A3",
        "outputId": "73277cce-0c70-4f2c-bf1f-339825540dde",
        "colab": {
          "base_uri": "https://localhost:8080/"
        }
      },
      "source": [
        "[n**2 for n in range(1,6)] #리스트 축약"
      ],
      "execution_count": 31,
      "outputs": [
        {
          "output_type": "execute_result",
          "data": {
            "text/plain": [
              "[1, 4, 9, 16, 25]"
            ]
          },
          "metadata": {
            "tags": []
          },
          "execution_count": 31
        }
      ]
    },
    {
      "cell_type": "code",
      "metadata": {
        "id": "oqcYuQutqTlW"
      },
      "source": [
        "def get_square(n): #함수, 재활용이 용이하다\n",
        "  return n**2"
      ],
      "execution_count": 32,
      "outputs": []
    },
    {
      "cell_type": "code",
      "metadata": {
        "id": "r3mHrKWeqrie",
        "outputId": "65aa6da2-d20a-4b8f-862c-7747774b89ec",
        "colab": {
          "base_uri": "https://localhost:8080/"
        }
      },
      "source": [
        "get_square(5)"
      ],
      "execution_count": 33,
      "outputs": [
        {
          "output_type": "execute_result",
          "data": {
            "text/plain": [
              "25"
            ]
          },
          "metadata": {
            "tags": []
          },
          "execution_count": 33
        }
      ]
    },
    {
      "cell_type": "code",
      "metadata": {
        "id": "16yN1QWpqsgO"
      },
      "source": [
        "# 네이버 책 정보 가져오기 "
      ],
      "execution_count": 34,
      "outputs": []
    },
    {
      "cell_type": "code",
      "metadata": {
        "id": "5dR0T4T2sIdA"
      },
      "source": [
        "def create_url(api_node, search_text, start_num, disp_num):\n",
        "  base = \"https://openapi.naver.com/v1/search\"\n",
        "  node = \"/\"+ api_node + \".json\"\n",
        "  param_query = \"?query=\" + urllib.parse.quote(search_text)\n",
        "  param_start = \"&start=\" + str(start_num)\n",
        "  param_disp = \"&display=\" + str(disp_num)\n",
        "\n",
        "  return base + node + param_query + param_start + param_disp"
      ],
      "execution_count": 38,
      "outputs": []
    },
    {
      "cell_type": "code",
      "metadata": {
        "id": "0518k8Zos9zP",
        "outputId": "0cb66429-7b48-4992-dbb0-a7f866de327d",
        "colab": {
          "base_uri": "https://localhost:8080/",
          "height": 34
        }
      },
      "source": [
        "create_url(\"book\",\"TEST\", 1, 10)"
      ],
      "execution_count": 39,
      "outputs": [
        {
          "output_type": "execute_result",
          "data": {
            "application/vnd.google.colaboratory.intrinsic+json": {
              "type": "string"
            },
            "text/plain": [
              "'https://openapi.naver.com/v1/search/book.json?query=TEST&start=1&display=10'"
            ]
          },
          "metadata": {
            "tags": []
          },
          "execution_count": 39
        }
      ]
    },
    {
      "cell_type": "code",
      "metadata": {
        "id": "7WGJZqvxtRCV"
      },
      "source": [
        "import json\n",
        "\n",
        "url = create_url(\"book\",\"파이썬\",1,3)\n",
        "\n",
        "request = urllib.request.Request(url)\n",
        "request.add_header(\"X-Naver-Client-Id\", client_id)  # 인증 과정\n",
        "request.add_header(\"X-Naver-Client-Secret\", client_secret)\n",
        "\n",
        "response = urllib.request.urlopen(request)\n",
        "\n",
        "result = json.loads(response.read().decode('utf-8'))"
      ],
      "execution_count": 42,
      "outputs": []
    },
    {
      "cell_type": "code",
      "metadata": {
        "id": "tX0ZyFzVtwSF",
        "outputId": "c61dc6f2-e4a3-4ebe-e66c-363eb63d4927",
        "colab": {
          "base_uri": "https://localhost:8080/"
        }
      },
      "source": [
        "result"
      ],
      "execution_count": 43,
      "outputs": [
        {
          "output_type": "execute_result",
          "data": {
            "text/plain": [
              "{'display': 3,\n",
              " 'items': [{'author': '나동빈',\n",
              "   'description': '8가지 핵심 알고리즘 이론을 쉽게 설명하고, 관련 실전 문제를 풀이했다. 출제 유형 분석, 이론 설명, 기출문제 풀이까지! 어떤 코딩 테스트도 이 책 한 권으로 대비할 수 있을 것이다. 코딩 테스트에서 주로 선택하는 <b>파이썬</b>을 기반으로 설명되어 있으며, <b>파이썬</b> 코드 외에도 C/C++, 자바 코드를 추가로 제공한다.',\n",
              "   'discount': '30600',\n",
              "   'image': 'https://bookthumb-phinf.pstatic.net/cover/164/391/16439154.jpg?type=m1&udate=20200928',\n",
              "   'isbn': '1162243074 9791162243077',\n",
              "   'link': 'http://book.naver.com/bookdb/book_detail.php?bid=16439154',\n",
              "   'price': '34000',\n",
              "   'pubdate': '20200805',\n",
              "   'publisher': '한빛미디어',\n",
              "   'title': '이것이 취업을 위한 코딩 테스트다 with <b>파이썬</b> (취업과 이직을 결정하는 알고리즘 인터뷰 완벽 가이드, C/C++, 자바 코드 제공)'},\n",
              "  {'author': '박상길',\n",
              "   'description': '물론, <b>파이썬</b>으로 구현하는 코드 풀이를 통해 성능 최적화 기법, <b>파이썬</b>의 핵심 문법과 다양한 실용 테크닉까지 배울 수 있는, 초보 개발자와 숙련 개발자... 이 책은 현업과 실무에 유용한 주요 알고리즘 이론을 깊숙이 이해하고, <b>파이썬</b>의 핵심 기능과 문법까지 상세하게 이해할 수 있는 취업용 코딩 테스트를... ',\n",
              "   'discount': '34200',\n",
              "   'image': 'https://bookthumb-phinf.pstatic.net/cover/164/062/16406247.jpg?type=m1&udate=20201028',\n",
              "   'isbn': '1189909170 9791189909178',\n",
              "   'link': 'http://book.naver.com/bookdb/book_detail.php?bid=16406247',\n",
              "   'price': '38000',\n",
              "   'pubdate': '20200715',\n",
              "   'publisher': '책만',\n",
              "   'title': '<b>파이썬</b> 알고리즘 인터뷰 (95가지 알고리즘 문제 풀이로 완성하는 코딩 테스트)'},\n",
              "  {'author': '윤인성',\n",
              "   'description': '1:1 과외하듯 배우는 <b>파이썬</b> 프로그래밍 자습서(<b>파이썬</b> 최신 버전 반영)\\n이 책은 독학으로 프로그래밍 언어를 처음 배우려는 입문자가, 혹은 <b>파이썬</b>을 배우려는 입문자가 ‘꼭 필요한 내용을 제대로’ 학습할 수 있도록 구성했다. ‘무엇을’, ‘어떻게’ 학습해야 할지조차 모르는 입문자의 막연한 마음을 살펴... ',\n",
              "   'discount': '16200',\n",
              "   'image': 'https://bookthumb-phinf.pstatic.net/cover/150/286/15028688.jpg?type=m1&udate=20200915',\n",
              "   'isbn': '1162241888 9791162241882',\n",
              "   'link': 'http://book.naver.com/bookdb/book_detail.php?bid=15028688',\n",
              "   'price': '18000',\n",
              "   'pubdate': '20190610',\n",
              "   'publisher': '한빛미디어',\n",
              "   'title': '혼자 공부하는 <b>파이썬</b> (<b>파이썬</b> 최신 버전 반영)'}],\n",
              " 'lastBuildDate': 'Tue, 10 Nov 2020 10:18:16 +0900',\n",
              " 'start': 1,\n",
              " 'total': 1152}"
            ]
          },
          "metadata": {
            "tags": []
          },
          "execution_count": 43
        }
      ]
    },
    {
      "cell_type": "code",
      "metadata": {
        "id": "1e4DpgLLu0yO",
        "outputId": "0f11aa28-da8f-44cf-8029-f6312df4f55b",
        "colab": {
          "base_uri": "https://localhost:8080/"
        }
      },
      "source": [
        "result['display']"
      ],
      "execution_count": 44,
      "outputs": [
        {
          "output_type": "execute_result",
          "data": {
            "text/plain": [
              "3"
            ]
          },
          "metadata": {
            "tags": []
          },
          "execution_count": 44
        }
      ]
    },
    {
      "cell_type": "code",
      "metadata": {
        "id": "uzYB45sTyd9b",
        "outputId": "bf787956-f29a-4b2d-9c4d-29afccefb0ee",
        "colab": {
          "base_uri": "https://localhost:8080/"
        }
      },
      "source": [
        "len(result['items'])"
      ],
      "execution_count": 45,
      "outputs": [
        {
          "output_type": "execute_result",
          "data": {
            "text/plain": [
              "3"
            ]
          },
          "metadata": {
            "tags": []
          },
          "execution_count": 45
        }
      ]
    },
    {
      "cell_type": "code",
      "metadata": {
        "id": "Q-nEVhD5yt3n",
        "outputId": "1a455553-b89e-440d-90b9-a4129f324d90",
        "colab": {
          "base_uri": "https://localhost:8080/",
          "height": 34
        }
      },
      "source": [
        "result['items'][2]['title']"
      ],
      "execution_count": 46,
      "outputs": [
        {
          "output_type": "execute_result",
          "data": {
            "application/vnd.google.colaboratory.intrinsic+json": {
              "type": "string"
            },
            "text/plain": [
              "'혼자 공부하는 <b>파이썬</b> (<b>파이썬</b> 최신 버전 반영)'"
            ]
          },
          "metadata": {
            "tags": []
          },
          "execution_count": 46
        }
      ]
    },
    {
      "cell_type": "code",
      "metadata": {
        "id": "x9zCr8tqzPbz",
        "outputId": "c8e3d496-94e9-43a1-d724-6c7b828ecd31",
        "colab": {
          "base_uri": "https://localhost:8080/"
        }
      },
      "source": [
        "# for i in range(0,3):\n",
        "#   result['items'][i]['title']\n",
        "# print(result)\n",
        "\n",
        "\n",
        "###\n",
        "[result['items'][i]['title'] for i in range(0,3)]"
      ],
      "execution_count": 63,
      "outputs": [
        {
          "output_type": "execute_result",
          "data": {
            "text/plain": [
              "['이것이 취업을 위한 코딩 테스트다 with <b>파이썬</b> (취업과 이직을 결정하는 알고리즘 인터뷰 완벽 가이드, C/C++, 자바 코드 제공)',\n",
              " '<b>파이썬</b> 알고리즘 인터뷰 (95가지 알고리즘 문제 풀이로 완성하는 코딩 테스트)',\n",
              " '혼자 공부하는 <b>파이썬</b> (<b>파이썬</b> 최신 버전 반영)']"
            ]
          },
          "metadata": {
            "tags": []
          },
          "execution_count": 63
        }
      ]
    },
    {
      "cell_type": "code",
      "metadata": {
        "id": "tToLvZ582q_i",
        "outputId": "4a609556-119e-4ea9-a415-3a7872244044",
        "colab": {
          "base_uri": "https://localhost:8080/"
        }
      },
      "source": [
        "titles = [result['items'][n]['title'] for n in range(3)]\n",
        "titles"
      ],
      "execution_count": 72,
      "outputs": [
        {
          "output_type": "execute_result",
          "data": {
            "text/plain": [
              "['이것이 취업을 위한 코딩 테스트다 with <b>파이썬</b> (취업과 이직을 결정하는 알고리즘 인터뷰 완벽 가이드, C/C++, 자바 코드 제공)',\n",
              " '<b>파이썬</b> 알고리즘 인터뷰 (95가지 알고리즘 문제 풀이로 완성하는 코딩 테스트)',\n",
              " '혼자 공부하는 <b>파이썬</b> (<b>파이썬</b> 최신 버전 반영)']"
            ]
          },
          "metadata": {
            "tags": []
          },
          "execution_count": 72
        }
      ]
    },
    {
      "cell_type": "code",
      "metadata": {
        "id": "nkddLXwBzf-b",
        "outputId": "f68d5032-a9d2-4569-b60c-39241a6dfe65",
        "colab": {
          "base_uri": "https://localhost:8080/"
        }
      },
      "source": [
        "authors = [result['items'][n]['author'] for n in range(3)]\n",
        "authors"
      ],
      "execution_count": 73,
      "outputs": [
        {
          "output_type": "execute_result",
          "data": {
            "text/plain": [
              "['나동빈', '박상길', '윤인성']"
            ]
          },
          "metadata": {
            "tags": []
          },
          "execution_count": 73
        }
      ]
    },
    {
      "cell_type": "code",
      "metadata": {
        "id": "lfGwUXfL1Ygg",
        "outputId": "f08e3ed2-6dc8-4be3-95cb-319ae4820d6e",
        "colab": {
          "base_uri": "https://localhost:8080/"
        }
      },
      "source": [
        "pubdates = [result['items'][n]['pubdate'] for n in range(3)]\n",
        "pubdates"
      ],
      "execution_count": 74,
      "outputs": [
        {
          "output_type": "execute_result",
          "data": {
            "text/plain": [
              "['20200805', '20200715', '20190610']"
            ]
          },
          "metadata": {
            "tags": []
          },
          "execution_count": 74
        }
      ]
    },
    {
      "cell_type": "code",
      "metadata": {
        "id": "7nFblC0o2PGh",
        "outputId": "382cecb4-3f73-43b7-efa5-e5ff79cfe495",
        "colab": {
          "base_uri": "https://localhost:8080/",
          "height": 137
        }
      },
      "source": [
        "import pandas as pd\n",
        "\n",
        "\n",
        "pd.DataFrame({'책제목':titles, '작가':authors, '출판일':pubdates})"
      ],
      "execution_count": 75,
      "outputs": [
        {
          "output_type": "execute_result",
          "data": {
            "text/html": [
              "<div>\n",
              "<style scoped>\n",
              "    .dataframe tbody tr th:only-of-type {\n",
              "        vertical-align: middle;\n",
              "    }\n",
              "\n",
              "    .dataframe tbody tr th {\n",
              "        vertical-align: top;\n",
              "    }\n",
              "\n",
              "    .dataframe thead th {\n",
              "        text-align: right;\n",
              "    }\n",
              "</style>\n",
              "<table border=\"1\" class=\"dataframe\">\n",
              "  <thead>\n",
              "    <tr style=\"text-align: right;\">\n",
              "      <th></th>\n",
              "      <th>책제목</th>\n",
              "      <th>작가</th>\n",
              "      <th>출판일</th>\n",
              "    </tr>\n",
              "  </thead>\n",
              "  <tbody>\n",
              "    <tr>\n",
              "      <th>0</th>\n",
              "      <td>이것이 취업을 위한 코딩 테스트다 with &lt;b&gt;파이썬&lt;/b&gt; (취업과 이직을 결정...</td>\n",
              "      <td>나동빈</td>\n",
              "      <td>20200805</td>\n",
              "    </tr>\n",
              "    <tr>\n",
              "      <th>1</th>\n",
              "      <td>&lt;b&gt;파이썬&lt;/b&gt; 알고리즘 인터뷰 (95가지 알고리즘 문제 풀이로 완성하는 코딩 ...</td>\n",
              "      <td>박상길</td>\n",
              "      <td>20200715</td>\n",
              "    </tr>\n",
              "    <tr>\n",
              "      <th>2</th>\n",
              "      <td>혼자 공부하는 &lt;b&gt;파이썬&lt;/b&gt; (&lt;b&gt;파이썬&lt;/b&gt; 최신 버전 반영)</td>\n",
              "      <td>윤인성</td>\n",
              "      <td>20190610</td>\n",
              "    </tr>\n",
              "  </tbody>\n",
              "</table>\n",
              "</div>"
            ],
            "text/plain": [
              "                                                 책제목   작가       출판일\n",
              "0  이것이 취업을 위한 코딩 테스트다 with <b>파이썬</b> (취업과 이직을 결정...  나동빈  20200805\n",
              "1  <b>파이썬</b> 알고리즘 인터뷰 (95가지 알고리즘 문제 풀이로 완성하는 코딩 ...  박상길  20200715\n",
              "2           혼자 공부하는 <b>파이썬</b> (<b>파이썬</b> 최신 버전 반영)  윤인성  20190610"
            ]
          },
          "metadata": {
            "tags": []
          },
          "execution_count": 75
        }
      ]
    },
    {
      "cell_type": "code",
      "metadata": {
        "id": "oCpj9MGX2arB"
      },
      "source": [
        "def get_dataFrame(url):\n",
        "  request = urllib.request.Request(url)\n",
        "  request.add_header(\"X-Naver-Client-Id\", client_id)\n",
        "  request.add_header(\"X-Naver-Client-Secret\", client_secret)    #인증\n",
        "  response = urllib.request.urlopen(request)\n",
        "  result = json.loads(response.read().decode('utf-8'))    #불러오기\n",
        "  titles = [result[\"items\"][n][\"title\"].replace(\"<b>\",\"\").replace(\"</b>\",\"\") for n in range(len(result[\"items\"]))]\n",
        "  authors = [result[\"items\"][n][\"author\"] for n in range(len(result[\"items\"]))]\n",
        "  pubdates = [result[\"items\"][n][\"pubdate\"] for n in range(len(result[\"items\"]))]\n",
        "  return pd.DataFrame({\"책제목\":titles,\"작가\":authors,\"출판일\":pubdates})#데이터프레임 만들기\n"
      ],
      "execution_count": 92,
      "outputs": []
    },
    {
      "cell_type": "code",
      "metadata": {
        "id": "btb7v5cZ5Yrm",
        "outputId": "caffe347-60ec-4112-f361-f23cd6328ae8",
        "colab": {
          "base_uri": "https://localhost:8080/",
          "height": 406
        }
      },
      "source": [
        "get_dataFrame(url)"
      ],
      "execution_count": 93,
      "outputs": [
        {
          "output_type": "execute_result",
          "data": {
            "text/html": [
              "<div>\n",
              "<style scoped>\n",
              "    .dataframe tbody tr th:only-of-type {\n",
              "        vertical-align: middle;\n",
              "    }\n",
              "\n",
              "    .dataframe tbody tr th {\n",
              "        vertical-align: top;\n",
              "    }\n",
              "\n",
              "    .dataframe thead th {\n",
              "        text-align: right;\n",
              "    }\n",
              "</style>\n",
              "<table border=\"1\" class=\"dataframe\">\n",
              "  <thead>\n",
              "    <tr style=\"text-align: right;\">\n",
              "      <th></th>\n",
              "      <th>책제목</th>\n",
              "      <th>작가</th>\n",
              "      <th>출판일</th>\n",
              "    </tr>\n",
              "  </thead>\n",
              "  <tbody>\n",
              "    <tr>\n",
              "      <th>0</th>\n",
              "      <td>이것이 취업을 위한 코딩 테스트다 with 파이썬 (취업과 이직을 결정하는 알고리즘...</td>\n",
              "      <td>나동빈</td>\n",
              "      <td>20200805</td>\n",
              "    </tr>\n",
              "    <tr>\n",
              "      <th>1</th>\n",
              "      <td>파이썬 알고리즘 인터뷰 (95가지 알고리즘 문제 풀이로 완성하는 코딩 테스트)</td>\n",
              "      <td>박상길</td>\n",
              "      <td>20200715</td>\n",
              "    </tr>\n",
              "    <tr>\n",
              "      <th>2</th>\n",
              "      <td>혼자 공부하는 파이썬 (파이썬 최신 버전 반영)</td>\n",
              "      <td>윤인성</td>\n",
              "      <td>20190610</td>\n",
              "    </tr>\n",
              "    <tr>\n",
              "      <th>3</th>\n",
              "      <td>Do it! 점프 투 파이썬</td>\n",
              "      <td>박응용</td>\n",
              "      <td>20190620</td>\n",
              "    </tr>\n",
              "    <tr>\n",
              "      <th>4</th>\n",
              "      <td>파이썬 증권 데이터 분석 (파이썬 입문, 웹 스크레이핑, 트레이딩 전략, 자동 매매)</td>\n",
              "      <td>김황후</td>\n",
              "      <td>20200701</td>\n",
              "    </tr>\n",
              "    <tr>\n",
              "      <th>...</th>\n",
              "      <td>...</td>\n",
              "      <td>...</td>\n",
              "      <td>...</td>\n",
              "    </tr>\n",
              "    <tr>\n",
              "      <th>95</th>\n",
              "      <td>문과생을 위한 파이썬</td>\n",
              "      <td>홍성인</td>\n",
              "      <td>20200701</td>\n",
              "    </tr>\n",
              "    <tr>\n",
              "      <th>96</th>\n",
              "      <td>파이썬으로 배우는 응용 텍스트 분석 (언어 인식 데이터 제품 개발을 위한 머신러닝)</td>\n",
              "      <td>벤자민 벵포트|레베카 빌브로|토니 오제다</td>\n",
              "      <td>20191129</td>\n",
              "    </tr>\n",
              "    <tr>\n",
              "      <th>97</th>\n",
              "      <td>진짜 코딩하며 배우는 파이썬 (바리스타 프로그램 만들기)</td>\n",
              "      <td>서민우|박준원</td>\n",
              "      <td>20200815</td>\n",
              "    </tr>\n",
              "    <tr>\n",
              "      <th>98</th>\n",
              "      <td>파이썬 프로그래밍(예제로 쉽게 배우는)</td>\n",
              "      <td>김상근</td>\n",
              "      <td>20200828</td>\n",
              "    </tr>\n",
              "    <tr>\n",
              "      <th>99</th>\n",
              "      <td>이토록 쉬운 딥러닝을 위한 기초수학 with 파이썬</td>\n",
              "      <td>마스이 도시카츠</td>\n",
              "      <td>20190813</td>\n",
              "    </tr>\n",
              "  </tbody>\n",
              "</table>\n",
              "<p>100 rows × 3 columns</p>\n",
              "</div>"
            ],
            "text/plain": [
              "                                                  책제목  ...       출판일\n",
              "0   이것이 취업을 위한 코딩 테스트다 with 파이썬 (취업과 이직을 결정하는 알고리즘...  ...  20200805\n",
              "1         파이썬 알고리즘 인터뷰 (95가지 알고리즘 문제 풀이로 완성하는 코딩 테스트)  ...  20200715\n",
              "2                          혼자 공부하는 파이썬 (파이썬 최신 버전 반영)  ...  20190610\n",
              "3                                     Do it! 점프 투 파이썬  ...  20190620\n",
              "4     파이썬 증권 데이터 분석 (파이썬 입문, 웹 스크레이핑, 트레이딩 전략, 자동 매매)  ...  20200701\n",
              "..                                                ...  ...       ...\n",
              "95                                        문과생을 위한 파이썬  ...  20200701\n",
              "96     파이썬으로 배우는 응용 텍스트 분석 (언어 인식 데이터 제품 개발을 위한 머신러닝)  ...  20191129\n",
              "97                    진짜 코딩하며 배우는 파이썬 (바리스타 프로그램 만들기)  ...  20200815\n",
              "98                              파이썬 프로그래밍(예제로 쉽게 배우는)  ...  20200828\n",
              "99                       이토록 쉬운 딥러닝을 위한 기초수학 with 파이썬  ...  20190813\n",
              "\n",
              "[100 rows x 3 columns]"
            ]
          },
          "metadata": {
            "tags": []
          },
          "execution_count": 93
        }
      ]
    },
    {
      "cell_type": "markdown",
      "metadata": {
        "id": "WfIrM0sl_8IW"
      },
      "source": [
        "기본 문법\n"
      ]
    },
    {
      "cell_type": "code",
      "metadata": {
        "id": "wR22ljSy8GKg"
      },
      "source": [
        "#range(시작, 끝 , 간격)\n"
      ],
      "execution_count": 94,
      "outputs": []
    },
    {
      "cell_type": "code",
      "metadata": {
        "id": "EbpbKShKAO9W"
      },
      "source": [
        "# display 최대값이 100개 1, 101, 201 시작점으로 100개씩 \n",
        "\n",
        "result_search = []\n",
        "\n",
        "for n in range(1,300,100) :\n",
        "  url=create_url(\"book\",\"파이썬\",n,100)\n",
        "  result_search.append(get_dataFrame(url))\n",
        "\n",
        "result_search = pd.concat(result_search)"
      ],
      "execution_count": 95,
      "outputs": []
    },
    {
      "cell_type": "code",
      "metadata": {
        "id": "pDH9Z92EAcno",
        "outputId": "b617f0ab-4ac4-4501-d401-c2e85d57cb95",
        "colab": {
          "base_uri": "https://localhost:8080/",
          "height": 197
        }
      },
      "source": [
        "result_search.head()"
      ],
      "execution_count": 96,
      "outputs": [
        {
          "output_type": "execute_result",
          "data": {
            "text/html": [
              "<div>\n",
              "<style scoped>\n",
              "    .dataframe tbody tr th:only-of-type {\n",
              "        vertical-align: middle;\n",
              "    }\n",
              "\n",
              "    .dataframe tbody tr th {\n",
              "        vertical-align: top;\n",
              "    }\n",
              "\n",
              "    .dataframe thead th {\n",
              "        text-align: right;\n",
              "    }\n",
              "</style>\n",
              "<table border=\"1\" class=\"dataframe\">\n",
              "  <thead>\n",
              "    <tr style=\"text-align: right;\">\n",
              "      <th></th>\n",
              "      <th>책제목</th>\n",
              "      <th>작가</th>\n",
              "      <th>출판일</th>\n",
              "    </tr>\n",
              "  </thead>\n",
              "  <tbody>\n",
              "    <tr>\n",
              "      <th>0</th>\n",
              "      <td>이것이 취업을 위한 코딩 테스트다 with 파이썬 (취업과 이직을 결정하는 알고리즘...</td>\n",
              "      <td>나동빈</td>\n",
              "      <td>20200805</td>\n",
              "    </tr>\n",
              "    <tr>\n",
              "      <th>1</th>\n",
              "      <td>파이썬 알고리즘 인터뷰 (95가지 알고리즘 문제 풀이로 완성하는 코딩 테스트)</td>\n",
              "      <td>박상길</td>\n",
              "      <td>20200715</td>\n",
              "    </tr>\n",
              "    <tr>\n",
              "      <th>2</th>\n",
              "      <td>혼자 공부하는 파이썬 (파이썬 최신 버전 반영)</td>\n",
              "      <td>윤인성</td>\n",
              "      <td>20190610</td>\n",
              "    </tr>\n",
              "    <tr>\n",
              "      <th>3</th>\n",
              "      <td>Do it! 점프 투 파이썬</td>\n",
              "      <td>박응용</td>\n",
              "      <td>20190620</td>\n",
              "    </tr>\n",
              "    <tr>\n",
              "      <th>4</th>\n",
              "      <td>파이썬 증권 데이터 분석 (파이썬 입문, 웹 스크레이핑, 트레이딩 전략, 자동 매매)</td>\n",
              "      <td>김황후</td>\n",
              "      <td>20200701</td>\n",
              "    </tr>\n",
              "  </tbody>\n",
              "</table>\n",
              "</div>"
            ],
            "text/plain": [
              "                                                 책제목   작가       출판일\n",
              "0  이것이 취업을 위한 코딩 테스트다 with 파이썬 (취업과 이직을 결정하는 알고리즘...  나동빈  20200805\n",
              "1        파이썬 알고리즘 인터뷰 (95가지 알고리즘 문제 풀이로 완성하는 코딩 테스트)  박상길  20200715\n",
              "2                         혼자 공부하는 파이썬 (파이썬 최신 버전 반영)  윤인성  20190610\n",
              "3                                    Do it! 점프 투 파이썬  박응용  20190620\n",
              "4    파이썬 증권 데이터 분석 (파이썬 입문, 웹 스크레이핑, 트레이딩 전략, 자동 매매)  김황후  20200701"
            ]
          },
          "metadata": {
            "tags": []
          },
          "execution_count": 96
        }
      ]
    },
    {
      "cell_type": "code",
      "metadata": {
        "id": "moDgpNDgBETM",
        "outputId": "284f9bc4-e58e-4e0b-b2df-8d52c0568637",
        "colab": {
          "base_uri": "https://localhost:8080/"
        }
      },
      "source": [
        "result_search.info()"
      ],
      "execution_count": 97,
      "outputs": [
        {
          "output_type": "stream",
          "text": [
            "<class 'pandas.core.frame.DataFrame'>\n",
            "Int64Index: 300 entries, 0 to 99\n",
            "Data columns (total 3 columns):\n",
            " #   Column  Non-Null Count  Dtype \n",
            "---  ------  --------------  ----- \n",
            " 0   책제목     300 non-null    object\n",
            " 1   작가      300 non-null    object\n",
            " 2   출판일     300 non-null    object\n",
            "dtypes: object(3)\n",
            "memory usage: 9.4+ KB\n"
          ],
          "name": "stdout"
        }
      ]
    },
    {
      "cell_type": "code",
      "metadata": {
        "id": "9lCsQHfkGjAk",
        "outputId": "e52db530-ba13-48ab-9a2c-b940666bfb82",
        "colab": {
          "base_uri": "https://localhost:8080/"
        }
      },
      "source": [
        " pip install xlsxwriter"
      ],
      "execution_count": 100,
      "outputs": [
        {
          "output_type": "stream",
          "text": [
            "Collecting xlsxwriter\n",
            "\u001b[?25l  Downloading https://files.pythonhosted.org/packages/6b/41/bf1aae04932d1eaffee1fc5f8b38ca47bbbf07d765129539bc4bcce1ce0c/XlsxWriter-1.3.7-py2.py3-none-any.whl (144kB)\n",
            "\r\u001b[K     |██▎                             | 10kB 11.0MB/s eta 0:00:01\r\u001b[K     |████▌                           | 20kB 2.2MB/s eta 0:00:01\r\u001b[K     |██████▉                         | 30kB 3.0MB/s eta 0:00:01\r\u001b[K     |█████████                       | 40kB 3.1MB/s eta 0:00:01\r\u001b[K     |███████████▎                    | 51kB 2.6MB/s eta 0:00:01\r\u001b[K     |█████████████▋                  | 61kB 2.8MB/s eta 0:00:01\r\u001b[K     |███████████████▉                | 71kB 3.1MB/s eta 0:00:01\r\u001b[K     |██████████████████▏             | 81kB 3.3MB/s eta 0:00:01\r\u001b[K     |████████████████████▍           | 92kB 3.6MB/s eta 0:00:01\r\u001b[K     |██████████████████████▋         | 102kB 3.5MB/s eta 0:00:01\r\u001b[K     |█████████████████████████       | 112kB 3.5MB/s eta 0:00:01\r\u001b[K     |███████████████████████████▏    | 122kB 3.5MB/s eta 0:00:01\r\u001b[K     |█████████████████████████████▌  | 133kB 3.5MB/s eta 0:00:01\r\u001b[K     |███████████████████████████████▊| 143kB 3.5MB/s eta 0:00:01\r\u001b[K     |████████████████████████████████| 153kB 3.5MB/s \n",
            "\u001b[?25hInstalling collected packages: xlsxwriter\n",
            "Successfully installed xlsxwriter-1.3.7\n"
          ],
          "name": "stdout"
        }
      ]
    },
    {
      "cell_type": "code",
      "metadata": {
        "id": "X2rLA9GXBFel"
      },
      "source": [
        "writer = pd.ExcelWriter(\"books.xlsx\", engine = 'xlsxwriter')\n",
        "\n",
        "result_search.to_excel(writer, sheet_name='Sheet1')\n",
        "\n",
        "workbook = writer.book \n",
        "worksheet = writer.sheets['Sheet1']\n",
        "\n",
        "format_center = workbook.add_format({'text_wrap': True})\n",
        "format_center.set_align('center')\n",
        "format_center.set_align('vcenter')\n",
        "\n",
        "worksheet.set_column('A:A', 5)\n",
        "worksheet.set_column('B:B', 90, format_center)\n",
        "worksheet.set_column('C:C', 40, format_center)\n",
        "worksheet.set_column('D:D', 15)\n",
        "\n",
        "writer.save()"
      ],
      "execution_count": 101,
      "outputs": []
    },
    {
      "cell_type": "code",
      "metadata": {
        "id": "tRenMr_pGdz2"
      },
      "source": [
        ""
      ],
      "execution_count": null,
      "outputs": []
    }
  ]
}