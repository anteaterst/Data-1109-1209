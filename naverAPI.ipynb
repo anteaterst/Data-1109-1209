{
  "nbformat": 4,
  "nbformat_minor": 0,
  "metadata": {
    "colab": {
      "name": "naverAPI.ipynb",
      "provenance": [],
      "authorship_tag": "ABX9TyOCGofJKGAdLHYdeel+nCG6",
      "include_colab_link": true
    },
    "kernelspec": {
      "name": "python3",
      "display_name": "Python 3"
    }
  },
  "cells": [
    {
      "cell_type": "markdown",
      "metadata": {
        "id": "view-in-github",
        "colab_type": "text"
      },
      "source": [
        "<a href=\"https://colab.research.google.com/github/anteaterst/Data-1119-1209/blob/main/naverAPI.ipynb\" target=\"_parent\"><img src=\"https://colab.research.google.com/assets/colab-badge.svg\" alt=\"Open In Colab\"/></a>"
      ]
    },
    {
      "cell_type": "code",
      "metadata": {
        "id": "uoCR_Yrj8G7T"
      },
      "source": [
        "import urllib.request"
      ],
      "execution_count": 1,
      "outputs": []
    },
    {
      "cell_type": "code",
      "metadata": {
        "id": "TC_OPTwG8cJj"
      },
      "source": [
        "client_id = \"GYoAcBBUgag6SH0WTJsn\"\n",
        "client_secret = \"wm1JRGqTkO\""
      ],
      "execution_count": 33,
      "outputs": []
    },
    {
      "cell_type": "code",
      "metadata": {
        "id": "ft6oxlOb_hMe",
        "outputId": "c686ab44-d404-48e6-de77-8a1b132e3588",
        "colab": {
          "base_uri": "https://localhost:8080/",
          "height": 34
        }
      },
      "source": [
        "\n",
        "encText = urllib.parse.quote(\"aaaa10432\")\n",
        "url = \"https://openapi.naver.com/v1/search/blog.json?query=\" + encText\n",
        "url"
      ],
      "execution_count": 52,
      "outputs": [
        {
          "output_type": "execute_result",
          "data": {
            "application/vnd.google.colaboratory.intrinsic+json": {
              "type": "string"
            },
            "text/plain": [
              "'https://openapi.naver.com/v1/search/blog.json?query=aaaa10432'"
            ]
          },
          "metadata": {
            "tags": []
          },
          "execution_count": 52
        }
      ]
    },
    {
      "cell_type": "code",
      "metadata": {
        "id": "ndE0QFrVCzQX"
      },
      "source": [
        "\n",
        "\n",
        "request = urllib.request.Request(url)\n",
        "request.add_header(\"X-Naver-Client-Id\", client_id)\n",
        "request.add_header(\"X-Naver-Client-Secret\", client_secret)\n"
      ],
      "execution_count": 56,
      "outputs": []
    },
    {
      "cell_type": "code",
      "metadata": {
        "id": "UD5rhF5iC1BE",
        "outputId": "194e94cb-ba9b-4ca6-f03b-7284b9e97c6b",
        "colab": {
          "base_uri": "https://localhost:8080/"
        }
      },
      "source": [
        "\n",
        "response = urllib.request.urlopen(request)\n",
        "print(response.getcode())\n",
        "\n",
        "\n",
        "## 200은 정상적인 접근이 허용되었다는 의미의 코드이다.\n"
      ],
      "execution_count": 57,
      "outputs": [
        {
          "output_type": "stream",
          "text": [
            "200\n"
          ],
          "name": "stdout"
        }
      ]
    },
    {
      "cell_type": "code",
      "metadata": {
        "id": "8nVVt5hyC2Hk",
        "outputId": "ad23e7f2-0def-4559-ea88-f1c115fcb7e6",
        "colab": {
          "base_uri": "https://localhost:8080/"
        }
      },
      "source": [
        "type(response)"
      ],
      "execution_count": 58,
      "outputs": [
        {
          "output_type": "execute_result",
          "data": {
            "text/plain": [
              "http.client.HTTPResponse"
            ]
          },
          "metadata": {
            "tags": []
          },
          "execution_count": 58
        }
      ]
    },
    {
      "cell_type": "code",
      "metadata": {
        "id": "nY0GJvjnDBI8",
        "outputId": "fc7049d7-3875-429a-ea3e-3d81a9a99d40",
        "colab": {
          "base_uri": "https://localhost:8080/"
        }
      },
      "source": [
        "print(response.read().decode('utf-8'))\n"
      ],
      "execution_count": 59,
      "outputs": [
        {
          "output_type": "stream",
          "text": [
            "{\n",
            "\"lastBuildDate\": \"Mon, 09 Nov 2020 17:09:21 +0900\",\n",
            "\"total\": 70,\n",
            "\"start\": 1,\n",
            "\"display\": 10,\n",
            "\"items\": [\n",
            "{\n",
            "\"title\": \"턱걸이기구/치닝디핑/풀업밴드 '멜킨스포츠 마스터킹 치닝디핑... \",\n",
            "\"link\": \"https:\\/\\/blog.naver.com\\/aaaa10432?Redirect=Log&logNo=221536855854\",\n",
            "\"description\": \"턱걸이기구/치닝디핑/풀업밴드 멜킨스포츠 마스터킹 치닝디핑:운동방법♥ https://blog.naver.com/<b>aaaa10432</b>/221530390455 ↑ ↑ 멜킨스포츠 마스터킹 치닝디핑 개봉기는 여기서 확인하세요~ 초보자의 턱걸이... \",\n",
            "\"bloggername\": \"초이의파워블로그\",\n",
            "\"bloggerlink\": \"https://blog.naver.com/aaaa10432\",\n",
            "\"postdate\": \"20190514\"\n",
            "\n",
            "},\n",
            "{\n",
            "\"title\": \"수입아이스크림/고급아이스크림 '바세츠아이스크림(Feat.... \",\n",
            "\"link\": \"https:\\/\\/blog.naver.com\\/aaaa10432?Redirect=Log&logNo=221444666503\",\n",
            "\"description\": \"com/<b>aaaa10432</b>/221070043311 미국, 유럽, 중국에 이어 한국에서도 맛나볼 수 있게 된 바세츠아이스크림 마산에는 경남대점밖에 없어서 댓거리까지 아이스크림 먹으러 갔었는데 이제 그럴 필요 없다는거... \",\n",
            "\"bloggername\": \"초이의파워블로그\",\n",
            "\"bloggerlink\": \"https://blog.naver.com/aaaa10432\",\n",
            "\"postdate\": \"20190118\"\n",
            "\n",
            "},\n",
            "{\n",
            "\"title\": \"꽃과 함께하는 오랜만에 일상♡(꽃꽂이/영화/먹방/회식)\",\n",
            "\"link\": \"https:\\/\\/blog.naver.com\\/aaaa10432?Redirect=Log&logNo=221413352154\",\n",
            "\"description\": \"요즘 핫한 창원마산키즈미용실 댓거리 #와우키즈헤어 에서 ↓ ↓ https://blog.naver.com/<b>aaaa10432</b>/221397243531 &amp; #일상 #일상이야기 #겨울일상 #11월일상 #12월일상 즐거운 일상이였다! 앞으로도 쭉 행복하길♥\",\n",
            "\"bloggername\": \"초이의파워블로그\",\n",
            "\"bloggerlink\": \"https://blog.naver.com/aaaa10432\",\n",
            "\"postdate\": \"20181206\"\n",
            "\n",
            "},\n",
            "{\n",
            "\"title\": \"네이버메인에 내꺼가 떴어요!\",\n",
            "\"link\": \"https:\\/\\/blog.naver.com\\/aaaa10432?Redirect=Log&logNo=221377040380\",\n",
            "\"description\": \"(나 이런적 처음이라 자랑질 좀 하러 왔어요ㅎㅎ) 네이버메인에 내 글이 떴어요♡ https://blog.naver.com/<b>aaaa10432</b>/221370469755 '' ↑ ↑ 아직 못보신 분들은 클릭 밀양카페/밀양핫플신상카페 '메나쥬(Menage)... \",\n",
            "\"bloggername\": \"초이의파워블로그\",\n",
            "\"bloggerlink\": \"https://blog.naver.com/aaaa10432\",\n",
            "\"postdate\": \"20181014\"\n",
            "\n",
            "},\n",
            "{\n",
            "\"title\": \"창원상남동맛집/상남동고기집 '항우돈'\",\n",
            "\"link\": \"https:\\/\\/blog.naver.com\\/aaaa10432?Redirect=Log&logNo=220834265964\",\n",
            "\"description\": \"com/<b>aaaa10432</b>/220646906821 저번에 항아리 숙성 양념갈비를 너무 맛있게 먹고 와서 이번엔 오겹살먹으러 출동 창원 상남동 맛집 항우돈 내부/분위기 들어갔을땐 손님이 너무 많아서 못찍고 다먹고 우리가 거의... \",\n",
            "\"bloggername\": \"초이의파워블로그\",\n",
            "\"bloggerlink\": \"https://blog.naver.com/aaaa10432\",\n",
            "\"postdate\": \"20161012\"\n",
            "\n",
            "},\n",
            "{\n",
            "\"title\": \"창원대맛집/사림동맛집 '두유라이크'\",\n",
            "\"link\": \"https:\\/\\/blog.naver.com\\/aaaa10432?Redirect=Log&logNo=220758174862\",\n",
            "\"description\": \"http://blog.naver.com/<b>aaaa10432</b>/220758163963 미술관 데이트후 근처맛집을 찾다가 선택한 이곳! 창원맛집 창원맛집추천 창원대맛집 창원대맛집추천 창원대근처맛집 사림동맛집 사림동맛집추천 경남도립미술관맛집... \",\n",
            "\"bloggername\": \"초이의파워블로그\",\n",
            "\"bloggerlink\": \"https://blog.naver.com/aaaa10432\",\n",
            "\"postdate\": \"20160712\"\n",
            "\n",
            "},\n",
            "{\n",
            "\"title\": \"제주도여행)제주하귀맛집/애월해안도로맛집 '칠사돈'\",\n",
            "\"link\": \"https:\\/\\/blog.naver.com\\/aaaa10432?Redirect=Log&logNo=220881861441\",\n",
            "\"description\": \"제주도여행일정/제주도여행코스/제주도여행코스추천/제주도여행루트 http://blog.naver.com/<b>aaaa10432</b>/220880995743 개똥이네 감귤농장에서 감귤체험 열심히 하고 키친오즈/새별오름 들렸다가 맛있는 제주돼지 먹으러... \",\n",
            "\"bloggername\": \"초이의파워블로그\",\n",
            "\"bloggerlink\": \"https://blog.naver.com/aaaa10432\",\n",
            "\"postdate\": \"20161209\"\n",
            "\n",
            "},\n",
            "{\n",
            "\"title\": \"서울여행/서울가볼만한곳)한남동'구슬모아당구장' 무료전시장\",\n",
            "\"link\": \"https:\\/\\/blog.naver.com\\/aaaa10432?Redirect=Log&logNo=220716907035\",\n",
            "\"description\": \"com/<b>aaaa10432</b>/220717857294 주차 tip. 난 한남동 5마일에서 점심먹고 구슬모아당구장 전시 구경하러 갔다 왜냐! 한남동 5마일에서 밥먹으면 건물 주차장 두시간 무료이기 때문! 구슬모아당구장 전시를 보실거면... \",\n",
            "\"bloggername\": \"초이의파워블로그\",\n",
            "\"bloggerlink\": \"https://blog.naver.com/aaaa10432\",\n",
            "\"postdate\": \"20160523\"\n",
            "\n",
            "},\n",
            "{\n",
            "\"title\": \"창원카페/창원롯데백화점맛집 '카페 도레도레'\",\n",
            "\"link\": \"https:\\/\\/blog.naver.com\\/aaaa10432?Redirect=Log&logNo=220845002182\",\n",
            "\"description\": \"naver.com/<b>aaaa10432</b>/220319632106 이때만 해도 내가 창원가면 도레도레 오픈하고 싶다고 그런 꿈을 가지고 있었는데 현실은.. 난 여전히 먹으러 가고 있다 창원 도레도레는 내가 처음으로 오픈하고 싶었는데\",\n",
            "\"bloggername\": \"초이의파워블로그\",\n",
            "\"bloggerlink\": \"https://blog.naver.com/aaaa10432\",\n",
            "\"postdate\": \"20161025\"\n",
            "\n",
            "},\n",
            "{\n",
            "\"title\": \"창원상남동맛집 창원 레스토랑/창원 스테이크 'cookhouse... \",\n",
            "\"link\": \"https:\\/\\/blog.naver.com\\/aaaa10432?Redirect=Log&logNo=220715489836\",\n",
            "\"description\": \"'테이킹'이였을때 샤브샤브 월남쌈 먹고 왔었는데 ↓↓ http://blog.naver.com/<b>aaaa10432</b>/220414032827 새롭게 변신한 '쿡하우스&amp;월남쌈' 에서는 파스타 스테이크 피자 리조또도 즐길수 있다고 해서 이번엔 스테이크... \",\n",
            "\"bloggername\": \"초이의파워블로그\",\n",
            "\"bloggerlink\": \"https://blog.naver.com/aaaa10432\",\n",
            "\"postdate\": \"20160521\"\n",
            "\n",
            "}\n",
            "]\n",
            "}\n",
            "\n"
          ],
          "name": "stdout"
        }
      ]
    },
    {
      "cell_type": "code",
      "metadata": {
        "id": "dvk9kGxqDJ-d"
      },
      "source": [
        "def create_url(api_node,search_text,start_num,disp_num):\n",
        "  base = \"https://openapi.naver.com/v1/search\"\n",
        "  node = \"/\" + api_node + \".json\"\n",
        "  param_query = \"?query=\" + urllib.parse.quote(search_text)\n",
        "  param_start = \"&start=\" + str(start_num)\n",
        "  param_disp = \"&display=\" + str(disp_num)\n",
        "\n",
        "  return base + node + param_query + param_start + param_disp"
      ],
      "execution_count": 63,
      "outputs": []
    },
    {
      "cell_type": "code",
      "metadata": {
        "id": "irqmY90TExZ1",
        "outputId": "5c53f8a5-0b03-481e-b046-2000f016986e",
        "colab": {
          "base_uri": "https://localhost:8080/",
          "height": 34
        }
      },
      "source": [
        "create_url(\"book\",\"TEST\",1,10)"
      ],
      "execution_count": 64,
      "outputs": [
        {
          "output_type": "execute_result",
          "data": {
            "application/vnd.google.colaboratory.intrinsic+json": {
              "type": "string"
            },
            "text/plain": [
              "'https://openapi.naver.com/v1/search/book.json?query=TEST&start=1&display=10'"
            ]
          },
          "metadata": {
            "tags": []
          },
          "execution_count": 64
        }
      ]
    },
    {
      "cell_type": "code",
      "metadata": {
        "id": "aPUNm6GBGD1y"
      },
      "source": [
        ""
      ],
      "execution_count": null,
      "outputs": []
    }
  ]
}