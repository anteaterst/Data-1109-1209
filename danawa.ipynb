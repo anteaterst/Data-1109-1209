{
 "cells": [
  {
   "cell_type": "code",
   "execution_count": 4,
   "metadata": {},
   "outputs": [],
   "source": [
    "# 어떤 무선 청소기가 인기가 좋을까?  \n",
    "\n",
    "# 다나와 사이트 : 온라인 쇼핑몰, 소셜커머스 등 전 상품에 대한 가격비교 사이트\n",
    "                # 다양한 형태의 조건 설정등을 통한 제품 검색이 가능하다. \n",
    "    \n",
    "from selenium import webdriver\n",
    "browser = webdriver.Chrome('chromedriver.exe')"
   ]
  },
  {
   "cell_type": "code",
   "execution_count": 6,
   "metadata": {},
   "outputs": [],
   "source": [
    "url = \"http://search.danawa.com/dsearch.php?k1=%EB%AC%B4%EC%84%A0%EC%B2%AD%EC%86%8C%EA%B8%B0&module=goods&act=dispMain\"\n",
    "browser.get(url)"
   ]
  },
  {
   "cell_type": "code",
   "execution_count": 9,
   "metadata": {},
   "outputs": [
    {
     "name": "stdout",
     "output_type": "stream",
     "text": [
      "Collecting bs4\n",
      "  Downloading bs4-0.0.1.tar.gz (1.1 kB)\n",
      "Requirement already satisfied: beautifulsoup4 in c:\\programdata\\anaconda3\\lib\\site-packages (from bs4) (4.6.0)\n",
      "Building wheels for collected packages: bs4\n",
      "  Building wheel for bs4 (setup.py): started\n",
      "  Building wheel for bs4 (setup.py): finished with status 'done'\n",
      "  Created wheel for bs4: filename=bs4-0.0.1-py3-none-any.whl size=1279 sha256=f4c1b789246a2b10548023a0a5e458fdb3d8e6b93fa2ca16a0f4d0239a85fecd\n",
      "  Stored in directory: c:\\users\\administrator\\appdata\\local\\pip\\cache\\wheels\\75\\78\\21\\68b124549c9bdc94f822c02fb9aa3578a669843f9767776bca\n",
      "Successfully built bs4\n",
      "Installing collected packages: bs4\n",
      "Successfully installed bs4-0.0.1\n"
     ]
    }
   ],
   "source": [
    "#!pip install bs4"
   ]
  },
  {
   "cell_type": "code",
   "execution_count": 11,
   "metadata": {},
   "outputs": [],
   "source": [
    "from bs4 import BeautifulSoup\n",
    "\n",
    "html = browser.page_source\n",
    "soup = BeautifulSoup(html, 'html.parser')\n"
   ]
  },
  {
   "cell_type": "code",
   "execution_count": 22,
   "metadata": {},
   "outputs": [
    {
     "data": {
      "text/plain": [
       "41"
      ]
     },
     "execution_count": 22,
     "metadata": {},
     "output_type": "execute_result"
    }
   ],
   "source": [
    "prod_items = soup.select('div.main_prodlist > ul.product_list > li.prod_item')\n",
    "len(prod_items)"
   ]
  },
  {
   "cell_type": "code",
   "execution_count": 23,
   "metadata": {},
   "outputs": [
    {
     "data": {
      "text/plain": [
       "'다이슨 V10 카본파이버'"
      ]
     },
     "execution_count": 23,
     "metadata": {},
     "output_type": "execute_result"
    }
   ],
   "source": [
    "# 상품명 추출\n",
    "title  = prod_items[0].select('p.prod_name > a')[0].text.strip()\n",
    "title"
   ]
  },
  {
   "cell_type": "code",
   "execution_count": 24,
   "metadata": {},
   "outputs": [
    {
     "data": {
      "text/plain": [
       "'579790'"
      ]
     },
     "execution_count": 24,
     "metadata": {},
     "output_type": "execute_result"
    }
   ],
   "source": [
    "# 가격 추출\n",
    "price = prod_items[0].select('p.price_sect > a > strong')[0].text.strip().replace(',','')\n",
    "price"
   ]
  },
  {
   "cell_type": "code",
   "execution_count": 25,
   "metadata": {
    "scrolled": false
   },
   "outputs": [
    {
     "data": {
      "text/plain": [
       "'핸디/스틱청소기 / 핸디+스틱형 / 무선형 / 전압: 25.2V / 싸이클론 / 흡입력: 160AW / 충전시간: 3시간30분 / 사용시간: 1시간 / 배터리: 리튬이온 / 구성: 소프트롤러, 토크드라이브, 미니모터, 솔형, 더스팅, 틈새, 긴틈새, 연장툴, 도킹스테이션 / 무게: 2.5kg / 소비전력: 525W / 크기(가로x세로x깊이): 250x1241x256mm'"
      ]
     },
     "execution_count": 25,
     "metadata": {},
     "output_type": "execute_result"
    }
   ],
   "source": [
    "# 제품 스팩\n",
    "spec_list = prod_items[0].select('div.spec_list')[0].text.strip()\n",
    "spec_list"
   ]
  },
  {
   "cell_type": "code",
   "execution_count": 28,
   "metadata": {},
   "outputs": [
    {
     "data": {
      "text/plain": [
       "[['다이슨 V10 카본파이버',\n",
       "  '핸디/스틱청소기 / 핸디+스틱형 / 무선형 / 전압: 25.2V / 싸이클론 / 흡입력: 160AW / 충전시간: 3시간30분 / 사용시간: 1시간 / 배터리: 리튬이온 / 구성: 소프트롤러, 토크드라이브, 미니모터, 솔형, 더스팅, 틈새, 긴틈새, 연장툴, 도킹스테이션 / 무게: 2.5kg / 소비전력: 525W / 크기(가로x세로x깊이): 250x1241x256mm',\n",
       "  '579790'],\n",
       " ['ZBQ7N9hymW', 'ZBQ7N9hymW330667', '330667'],\n",
       " ['샤오미 TROUVER TECH SOLO10',\n",
       "  '핸디/스틱청소기 / 핸디+스틱형 / 무선형 / 전압: 21.6V / 5단계여과 / BLDC모터 / 흡입력: 85AW / 흡입력: 18000Pa / 먼지통용량: 0.4L / 충전시간: 3시간30분 / 사용시간: 48분 / 용량: 2000mAh / 구성: 바닥, 솔형, 틈새 / 디스플레이표시창 / 배터리잔량표시 / 무게: 1.4kg / 색상:화이트+레드 / 소비전력: 300W',\n",
       "  '103590'],\n",
       " ['LG전자 코드제로 A9S A9700',\n",
       "  '핸디/스틱청소기 / 핸디+스틱형 / 무선형 / 헤파필터 / 2중터보싸이클론 / 5단계여과 / 인버터모터 / 흡입력: 200W / 충전시간: 4시간 / 사용시간: 2시간 / 배터리: 리튬이온 (2개) / 구성: 바닥, 물걸레, 침구, 솔형, 굳은먼지, 상부청소, 틈새, 긴틈새, 매트리스, 연장툴, 거치대 / 자동물공급 / 디스플레이표시창 / 배터리잔량표시 / WiFi / 색상:판타지실버 / 소비전력: 590W / 미세먼지인증(SLG) / 크기(가로x세로x깊이): 250x1120x260mm',\n",
       "  '1019430'],\n",
       " ['삼성전자 제트 VS15R8500BF',\n",
       "  '핸디/스틱청소기 / 핸디+스틱형 / 무선형 / 전압: 21.6V / 헤파필터 / 싸이클론 / 5단계여과 / 인버터모터 / 흡입력: 150W / 먼지통용량: 0.5L / 충전시간: 3시간30분 / 사용시간: 40분 / 배터리: 리튬이온 / 구성: 바닥, 솔형, 틈새, 거치대 / 디스플레이표시창 / 프리볼트 / 무게: 2.57kg / 색상:틸민트 / 소비전력: 410W / 알레르기인증(BAF) / 미세먼지인증(SLG) / 크기(가로x세로x깊이): 250x1123x215mm',\n",
       "  '384540'],\n",
       " ['삼성전자 제트 VS20R9078S2',\n",
       "  '핸디/스틱청소기 / 핸디+스틱형 / 무선형 / 전압: 21.9V / 헤파필터 / 싸이클론 / 5단계여과 / 인버터모터 / 흡입력: 200W / 먼지통용량: 0.5L / 충전시간: 3시간30분 / 사용시간: 2시간 / 배터리: 리튬이온 (2개) / 구성: 바닥, 물걸레, 침구, 솔형, 틈새, 연장툴, 거치대 / 물걸레 / 디스플레이표시창 / 프리볼트 / 무게: 2.7kg / 색상:티탄+블루 / 소비전력: 550W / 알레르기인증(BAF) / 미세먼지인증(SLG) / 크기(가로x세로x깊이): 250x1136x215mm',\n",
       "  '620720'],\n",
       " ['샤오미 차량용 청소기 무선 3세대 (해외구매)',\n",
       "  '차량용청소기 / 무선 / 흡입력: 16,800Pa / 최대출력: 120W / 헤파필터 / 추가노즐: 틈새, 솔브러쉬, 연장호스 / 사용시간: 25분 / 크기 : 369x72mm / 무게 : 560g',\n",
       "  '52710'],\n",
       " ['샤오미 드리미 V10',\n",
       "  '핸디/스틱청소기 / 핸디+스틱형 / 무선형 / 전압: 25.2V / 헤파필터 / H12급 / 5단계여과 / 흡입력: 140AW / 흡입력: 22000Pa / 먼지통용량: 0.5L / 충전시간: 3시간30분 / 사용시간: 1시간 / 용량: 2500mAh / 구성: 바닥, 침구, 솔형, 틈새, 연장툴, 거치대 / 무게: 1.5kg / 색상:화이트 / 소비전력: 450W',\n",
       "  '145450'],\n",
       " ['LG전자 코드제로 A9S A9570',\n",
       "  '핸디/스틱청소기 / 핸디+스틱형 / 무선형 / 헤파필터 / 2중터보싸이클론 / 5단계여과 / 인버터모터 / 흡입력: 200W / 충전시간: 4시간 / 사용시간: 2시간 / 배터리: 리튬이온 (2개) / 구성: 바닥, 물걸레, 침구, 솔형, 굳은먼지, 틈새, 매트리스, 거치대 / 자동물공급 / 디스플레이표시창 / 배터리잔량표시 / WiFi / 색상:아이언그레이 / 소비전력: 590W / 미세먼지인증(SLG) / 크기(가로x세로x깊이): 250x1120x260mm',\n",
       "  '937350'],\n",
       " ['다이슨 디지털 슬림 플러피+',\n",
       "  '핸디/스틱청소기 / 핸디+스틱형 / 무선형 / 싸이클론 / 5단계여과 / 흡입력: 100AW / 먼지통용량: 0.3L / 충전시간: 3시간30분 / 사용시간: 40분 / 구성: 슬림소프트롤러, 미니모터, 솔형, 스터번더트, 틈새, 매트리스, 연장툴, 거치대, 도킹스테이션 / 디스플레이표시창 / 무게: 1.9kg / 색상:오렌지 / 크기(가로x세로x깊이): 250x1100x250mm',\n",
       "  '680790'],\n",
       " ['LG전자 코드제로 A9S A9300',\n",
       "  '핸디/스틱청소기 / 핸디+스틱형 / 무선형 / 헤파필터 / 2중터보싸이클론 / 5단계여과 / 인버터모터 / 흡입력: 200W / 충전시간: 4시간 / 사용시간: 1시간 / 배터리: 리튬이온 / 구성: 바닥, 솔형, 굳은먼지, 틈새, 매트리스, 거치대 / 디스플레이표시창 / 배터리잔량표시 / WiFi / 색상:아이언그레이 / 소비전력: 590W / 미세먼지인증(SLG) / 크기(가로x세로x깊이): 250x1120x260mm',\n",
       "  '711920'],\n",
       " ['삼성전자 제트 VS20T9258SDCS',\n",
       "  '핸디/스틱청소기 / 핸디+스틱형 / 무선형 / 전압: 21.6V / 헤파필터 / 싸이클론 / 5단계여과 / 인버터모터 / 흡입력: 200W / 먼지통용량: 0.5L / 충전시간: 3시간30분 / 사용시간: 2시간 / 배터리: 리튬이온 (2개) / 구성: 바닥, 물걸레, 침구, 솔형, 틈새, 연장툴, 거치대 / 디스플레이표시창 / 프리볼트 / 무게: 2.64kg / 색상:티탄+그레이 / 소비전력: 550W / 알레르기인증(BAF) / 미세먼지인증(SLG) / 크기(가로x세로x깊이): 250x1123x215mm / [VCA-SAE90A] 청정스테이션 / 색상: 블랙 / 크기(가로x세로x깊이): 185x600x180mm',\n",
       "  '898990'],\n",
       " ['다이슨 V10 플러피',\n",
       "  '핸디/스틱청소기 / 핸디+스틱형 / 무선형 / 전압: 25.2V / 싸이클론 / 충전시간: 3시간30분 / 사용시간: 1시간 / 배터리: 리튬이온 / 구성: 소프트롤러, 미니모터, 솔형, 더스팅, 틈새, 도킹스테이션 / 무게: 2.5kg / 소비전력: 525W / 크기(가로x세로x깊이): 250x1241x256mm',\n",
       "  '556890'],\n",
       " ['일렉트로룩스 ZB3302AK',\n",
       "  '핸디/스틱청소기 / 핸디+스틱형 / 무선형 / 전압: 14.4V / 4단계여과 / 충전시간: 4시간 / 사용시간: 42분 / 배터리: 리튬이온 / 브러쉬자동청소 / 셀프스탠딩 / LED라이트 / 배터리잔량표시 / 무게: 3.22kg / 알레르기인증(BAF) / 브러쉬: 바닥, 미니침구, 소파용, 긴틈새, 2in1 / 크기(가로x세로x깊이): 303x690x162mm',\n",
       "  '148500'],\n",
       " ['일렉트로룩스 퓨어 Q9 PQ91-2OG',\n",
       "  '핸디/스틱청소기 / 핸디+스틱형 / 무선형 / 전압: 21.6V / 싸이클론 / 5단계여과 / 먼지통용량: 0.3L / 충전시간: 3시간30분 / 사용시간: 50분 / 배터리: 리튬이온 / 구성: 바닥, 솔형, 틈새, 거치대 / 브러쉬자동청소 / 셀프스탠딩 / LED라이트 / 무게: 2.7kg / 색상:그라나이트그레이 / 크기(가로x세로x깊이): 234x1056x163mm',\n",
       "  '229000'],\n",
       " ['다이슨 옴니 글라이드 컴플리트+',\n",
       "  '핸디/스틱청소기 / 핸디+스틱형 / 무선형 / 싸이클론 / 5단계여과 / 흡입력: 50AW / 먼지통용량: 0.2L / 충전시간: 3시간30분 / 사용시간: 20분 / 배터리: 리튬이온 / 구성: 전방향플러피, 미니모터, 솔형, 틈새, 서페이스, 연장툴, 거치대, 도킹스테이션 / 무게: 1.9kg / 색상:퍼플 / 크기(가로x세로x깊이): 208x1077x92mm',\n",
       "  '548620'],\n",
       " ['다이슨 V11 컴플리트',\n",
       "  '핸디/스틱청소기 / 핸디+스틱형 / 무선형 / 싸이클론 / 흡입력: 185AW / 먼지통용량: 0.54L / 충전시간: 4시간30분 / 사용시간: 1시간 / 구성: 하이토크, 소프트롤러, 미니모터, 솔형, 더스팅, 스터번더트, 틈새, 매트리스, 거치대, 도킹스테이션 / 디스플레이표시창 / 무게: 2.95kg / 색상:니켈블루 / 크기(가로x세로x깊이): 250x1280x261mm',\n",
       "  '869390'],\n",
       " ['다이슨 V8 플러피',\n",
       "  '핸디/스틱청소기 / 핸디+스틱형 / 무선형 / 전압: 21.6V / 싸이클론 / 흡입력: 155AW / 충전시간: 5시간 / 사용시간: 40분 / 배터리: 리튬이온 / 구성: 소프트롤러, 미니모터, 솔형, 더스팅, 틈새, 매트리스, 연장툴, 도킹스테이션 / 무게: 2.58kg / 소비전력: 485W / 크기(가로x세로x깊이): 250x1264x224mm',\n",
       "  '410000'],\n",
       " ['샤오미 드리미 V11',\n",
       "  '핸디/스틱청소기 / 핸디+스틱형 / 무선형 / 전압: 25.2V / 멀티싸이클론 / 5단계여과 / BLDC모터 / 흡입력: 150AW / 흡입력: 25000Pa / 먼지통용량: 0.5L / 충전시간: 4시간 / 사용시간: 1시간30분 / 용량: 3000mAh / 구성: 바닥, 침구, 솔형, 틈새, 연장툴, 거치대 / 디스플레이표시창 / 무게: 1.6kg / 색상:레드 / 소비전력: 450W / 크기(가로x세로): 202x1221mm',\n",
       "  '240220'],\n",
       " ['삼성전자 제트 VS20T9213QDCS',\n",
       "  '핸디/스틱청소기 / 핸디+스틱형 / 무선형 / 전압: 21.6V / 헤파필터 / 싸이클론 / 5단계여과 / 인버터모터 / 흡입력: 200W / 먼지통용량: 0.5L / 충전시간: 3시간30분 / 사용시간: 1시간 / 배터리: 리튬이온 / 구성: 바닥, 솔형, 틈새, 거치대 / 디스플레이표시창 / 프리볼트 / 무게: 2.64kg / 색상:티탄+그레이 / 소비전력: 550W / 알레르기인증(BAF) / 미세먼지인증(SLG) / 크기(가로x세로x깊이): 250x1123x215mm / [VCA-SAE90A] 청정스테이션 / 색상: 블랙 / 크기(가로x세로x깊이): 185x600x180mm',\n",
       "  '646470'],\n",
       " ['일렉트로룩스 WELL Q6 WQ61-1OGG',\n",
       "  '핸디/스틱청소기 / 핸디+스틱형 / 무선형 / 전압: 18V / 싸이클론 / 5단계여과 / 먼지통용량: 0.3L / 충전시간: 4시간30분 / 사용시간: 45분 / 배터리: 리튬이온 / 구성: 바닥, 솔형, 틈새, 거치대 / 브러쉬자동청소 / 셀프스탠딩 / LED라이트 / 배터리잔량표시 / 무게: 2.65kg / 색상:그라나이트그레이 / 크기(가로x세로x깊이): 386x692x146mm',\n",
       "  '183000'],\n",
       " ['LG전자 코드제로 A9S A9470',\n",
       "  '핸디/스틱청소기 / 핸디+스틱형 / 무선형 / 헤파필터 / 2중터보싸이클론 / 5단계여과 / 인버터모터 / 충전시간: 4시간 / 사용시간: 2시간 / 배터리: 리튬이온 (2개) / 구성: 바닥, 물걸레, 솔형, 틈새, 거치대 / 자동물공급 / 디스플레이표시창 / 배터리잔량표시 / WiFi / 색상:아이언그레이 / 소비전력: 590W / 미세먼지인증(SLG) / 크기(가로x세로x깊이): 250x1120x260mm',\n",
       "  '908340'],\n",
       " ['한샘 HSBC-6000W',\n",
       "  '욕실청소기 / 핸디형 / 무선형 / 충전시간: 4시간 / 사용시간: 1시간40분 / 용량: 2000mAh / 프리볼트 / 색상:화이트 / 소비전력: 30W / 완전방수 / 브러쉬: 평면, 틈새, 스크럽',\n",
       "  '52000'],\n",
       " ['LG전자 코드제로 A9 A9100',\n",
       "  '핸디/스틱청소기 / 핸디+스틱형 / 무선형 / 헤파필터 / 2중터보싸이클론 / 5단계여과 / 인버터모터 / 충전시간: 3시간30분 / 사용시간: 40분 / 배터리: 리튬이온 / 구성: 바닥, 솔형, 틈새, 거치대 / 배터리잔량표시 / 색상:판타지실버 / 소비전력: 450W / 알레르기인증(BAF) / 미세먼지인증(SLG) / 크기(가로x세로x깊이): 250x1120x260mm',\n",
       "  '508640'],\n",
       " ['샤오미 SHUNZAO 차량용 무선청소기 2세대 Z1 PRO (해외구매)',\n",
       "  '차량용청소기 / 무선 / 흡입력: 12,000Pa / 최대출력: 120W / 2중필터 / 추가노즐: 틈새, 솔브러쉬 / LED라이트 / 사용시간: 30분 / 충전시간: 2시간30분 / 충전방식: USB C타입 / 크기: 73x76x336mm / 무게: 610g',\n",
       "  '43290'],\n",
       " ['휴스톰 HS-10000',\n",
       "  '물걸레청소기 / 스틱형 / 회전식 / 무선형 / 전압: 14.6V / 충전시간: 2시간30분 / 사용시간: 30분 / 배터리: 리튬이온 / 용량: 2750mAh / LED라이트 / 가구손상방지 / 각도조절 / 셀프스탠딩 / 배터리잔량표시 / 프리볼트 / 무게: 3.7kg / 색상:블랙 / 모터과열방지 / 과충전방지 / 오토스토핑 / 패드: 극세사(벨크로형) / 크기(가로x세로x깊이): 410x1180x205mm',\n",
       "  '142950'],\n",
       " ['LG전자 코드제로 A9S A9400',\n",
       "  '핸디/스틱청소기 / 핸디+스틱형 / 무선형 / 헤파필터 / 2중터보싸이클론 / 5단계여과 / 인버터모터 / 흡입력: 200W / 충전시간: 4시간 / 사용시간: 2시간 / 배터리: 리튬이온 (2개) / 구성: 바닥, 솔형, 굳은먼지, 틈새, 매트리스, 거치대 / 디스플레이표시창 / 배터리잔량표시 / WiFi / 색상:판타지실버 / 소비전력: 590W / 미세먼지인증(SLG) / 크기(가로x세로x깊이): 250x1120x260mm',\n",
       "  '800750'],\n",
       " ['LG전자 코드제로 A9S A9500',\n",
       "  '핸디/스틱청소기 / 핸디+스틱형 / 무선형 / 헤파필터 / 2중터보싸이클론 / 5단계여과 / 인버터모터 / 흡입력: 200W / 충전시간: 4시간 / 사용시간: 2시간 / 배터리: 리튬이온 (2개) / 구성: 바닥, 침구, 솔형, 굳은먼지, 틈새, 매트리스, 거치대 / 디스플레이표시창 / 배터리잔량표시 / WiFi / 색상:판타지실버 / 소비전력: 590W / 미세먼지인증(SLG) / 크기(가로x세로x깊이): 250x1120x260mm',\n",
       "  '855310'],\n",
       " ['샤오미 SHUNZAO Z11',\n",
       "  '핸디/스틱청소기 / 핸디+스틱형 / 무선형 / 전압: 25.2V / 헤파필터 / 싸이클론 / 5단계여과 / 흡입력: 150AW / 흡입력: 26000Pa / 먼지통용량: 0.5L / 충전시간: 3시간 / 사용시간: 1시간 / 배터리: 리튬이온 / 용량: 2500mAh / 구성: 바닥, 침구, 솔형, 틈새, 연장툴, 거치대 / 디스플레이표시창 / 배터리잔량표시 / 색상:화이트',\n",
       "  '159000'],\n",
       " ['일렉트로룩스 WELL Q7 WQ71-2OIB',\n",
       "  '핸디/스틱청소기 / 핸디+스틱형 / 무선형 / 전압: 21.6V / 싸이클론 / 5단계여과 / 먼지통용량: 0.3L / 충전시간: 4시간30분 / 사용시간: 50분 / 배터리: 리튬이온 / 구성: 거치대 / 브러쉬자동청소 / 셀프스탠딩 / LED라이트 / 배터리잔량표시 / 무게: 2.8kg / 색상:인디고블루 / 브러쉬: 바닥, 더스팅, 사선, 틈새 / 크기(가로x세로x깊이): 386x692x140mm',\n",
       "  '255120'],\n",
       " ['삼성전자 제트 VS15R8543S1CW',\n",
       "  '핸디/스틱청소기 / 핸디+스틱형 / 무선형 / 전압: 21.6V / 헤파필터 / 싸이클론 / 5단계여과 / 인버터모터 / 흡입력: 150W / 먼지통용량: 0.5L / 충전시간: 3시간30분 / 사용시간: 40분 / 배터리: 리튬이온 / 구성: 바닥, 솔형, 틈새, 연장툴, 거치대 / 디스플레이표시창 / 프리볼트 / 무게: 2.57kg / 색상:틸민트 / 소비전력: 410W / 알레르기인증(BAF) / 미세먼지인증(SLG) / 크기(가로x세로x깊이): 250x1123x215mm / [VCA-SAE90A] 청정스테이션 / 색상: 화이트 / 크기(가로x세로x깊이): 185x600x180mm',\n",
       "  '512760'],\n",
       " ['삼성전자 제트 VS20T9279S6CS',\n",
       "  '핸디/스틱청소기 / 핸디+스틱형 / 무선형 / 전압: 21.9V / 헤파필터 / 싸이클론 / 5단계여과 / 인버터모터 / 흡입력: 200W / 먼지통용량: 0.5L / 충전시간: 3시간30분 / 사용시간: 2시간 / 배터리: 리튬이온 (2개) / 구성: 바닥, 물걸레, 펫, 솔형, 틈새, 연장툴, 거치대 / 디스플레이표시창 / 프리볼트 / 색상:티탄+블루 / 소비전력: 550W / 미세먼지인증(SLG) / 크기(가로x세로x깊이): 250x1136x215mm / [VCA-SAE90A] 청정스테이션 / 색상: 블랙 / 크기(가로x세로x깊이): 185x600x180mm',\n",
       "  '826430'],\n",
       " ['DIBEA D18',\n",
       "  '핸디/스틱청소기 / 핸디+스틱형 / 무선형 / 전압: 22.2V / 헤파필터 / H13급 / 싸이클론 / 3단계여과 / 흡입력: 9000Pa / 먼지통용량: 0.55L / 충전시간: 4~5시간 / 사용시간: 45분 / 배터리: 리튬이온 / 용량: 2200mAh / 구성: 바닥, 솔형, 틈새, 연장툴, 거치대 / LED라이트 / 배터리잔량표시 / 프리볼트 / 무게: 2.2kg / 소비전력: 120W / 크기(가로x세로x깊이): 240x1040x210mm',\n",
       "  '85910'],\n",
       " ['삼성전자 제트 VS20T9278S3CS',\n",
       "  '핸디/스틱청소기 / 핸디+스틱형 / 무선형 / 전압: 21.9V / 헤파필터 / 싸이클론 / 5단계여과 / 인버터모터 / 흡입력: 200W / 먼지통용량: 0.5L / 충전시간: 3시간30분 / 사용시간: 2시간 / 배터리: 리튬이온 (2개) / 구성: 바닥, 물걸레, 침구, 솔형, 틈새, 연장툴, 거치대 / 디스플레이표시창 / 프리볼트 / 색상:티탄+실버 / 소비전력: 550W / 미세먼지인증(SLG) / 크기(가로x세로x깊이): 250x1136x215mm / [VCA-SAE90A] 청정스테이션 / 색상: 블랙 / 크기(가로x세로x깊이): 185x600x180mm',\n",
       "  '859140'],\n",
       " ['삼성전자 제트 VS20T9278S3',\n",
       "  '핸디/스틱청소기 / 핸디+스틱형 / 무선형 / 전압: 21.9V / 헤파필터 / 싸이클론 / 5단계여과 / 인버터모터 / 흡입력: 200W / 먼지통용량: 0.5L / 충전시간: 3시간30분 / 사용시간: 2시간 / 배터리: 리튬이온 (2개) / 구성: 바닥, 물걸레, 침구, 솔형, 틈새, 연장툴, 거치대 / 디스플레이표시창 / 프리볼트 / 색상:티탄+실버 / 소비전력: 550W / 미세먼지인증(SLG) / 크기(가로x세로x깊이): 250x1136x215mm',\n",
       "  '746560'],\n",
       " ['샤오미 SHUNZAO 차량용 무선청소기 2세대 Z1 (해외구매)',\n",
       "  '차량용청소기 / 무선 / 흡입력: 7,000Pa / 최대출력: 90W / 2중필터 / 추가노즐: 틈새, 솔브러쉬 / LED라이트 / 사용시간: 30분 / 충전방식: USB C타입 / 충전시간: 2시간30분 / 크기: 73x76x336mm / 무게: 700g',\n",
       "  '24590'],\n",
       " ['삼성전자 제트 VS20R9044SB',\n",
       "  '핸디/스틱청소기 / 핸디+스틱형 / 무선형 / 전압: 21.9V / 헤파필터 / 싸이클론 / 5단계여과 / 인버터모터 / 흡입력: 200W / 먼지통용량: 0.5L / 충전시간: 3시간30분 / 사용시간: 1시간 / 배터리: 리튬이온 / 구성: 바닥, 침구, 솔형, 틈새, 연장툴, 거치대 / 디스플레이표시창 / 프리볼트 / 무게: 2.7kg / 색상:실버+블루 / 소비전력: 550W / 알레르기인증(BAF) / 미세먼지인증(SLG) / 크기(가로x세로x깊이): 250x1136x215mm',\n",
       "  '449000'],\n",
       " ['다이슨 V11 플러피 엑스트라',\n",
       "  '핸디/스틱청소기 / 핸디+스틱형 / 무선형 / 싸이클론 / 6단계여과 / 흡입력: 220AW / 먼지통용량: 0.54L / 충전시간: 4시간30분 / 사용시간: 1시간 / 구성: 소프트롤러, 미니모터, 솔형, 더스팅, 틈새, 매트리스, 거치대, 도킹스테이션 / 디스플레이표시창 / 무게: 2.97kg / 크기(가로x세로x깊이): 261x1261x250mm',\n",
       "  '928430'],\n",
       " ['샤오미 SWDK-D260',\n",
       "  '물걸레청소기 / 스틱형 / 왕복식 / 무선형 / 전압: 12.6V / 충전시간: 3시간 / 사용시간: 50분 / 배터리: 리튬이온 / 용량: 2000mAh / 물분사 / LED라이트 / 프리볼트 / 무게: 2.4kg / 색상:화이트 / 110V / 변환어댑터: 필요',\n",
       "  '105910'],\n",
       " ['휴스톰 HS-9000',\n",
       "  '물걸레청소기 / 스틱형 / 회전식 / 무선형 / 전압: 14.6V / 충전시간: 4시간 / 사용시간: 30분 / 배터리: 리튬이온 / 용량: 2850mAh / LED라이트 / 가구손상방지 / 각도조절 / 셀프스탠딩 / 무게: 3.6kg / 색상:블랙 / 모터과열방지 / 과충전방지 / 오토스토핑 / 패드: 극세사(벨크로형) / 크기(가로x세로x깊이): 410x860x256mm',\n",
       "  '137030'],\n",
       " ['다이슨 V11 220 에어와트 CF+',\n",
       "  '핸디/스틱청소기 / 핸디+스틱형 / 무선형 / 싸이클론 / 6단계여과 / 흡입력: 220AW / 먼지통용량: 0.54L / 충전시간: 4시간30분 / 사용시간: 1시간 / 구성: 하이토크, 소프트롤러, 미니모터, 솔형, 더스팅, 스터번더트, 틈새, 매트리스, 거치대, 도킹스테이션 / 디스플레이표시창 / 무게: 2.95kg / 크기(가로x세로x깊이): 250x1280x261mm',\n",
       "  '1047750']]"
      ]
     },
     "execution_count": 28,
     "metadata": {},
     "output_type": "execute_result"
    }
   ],
   "source": [
    "prod_data = []\n",
    "\n",
    "for prod in prod_items:\n",
    "    title  = prod.select('p.prod_name > a')[0].text.strip()\n",
    "    spec_list = prod.select('div.spec_list')[0].text.strip()\n",
    "    price = prod.select('p.price_sect > a > strong')[0].text.strip().replace(',','')\n",
    "    prod_data.append([title, spec_list, price])\n",
    "    \n",
    "prod_data"
   ]
  },
  {
   "cell_type": "code",
   "execution_count": null,
   "metadata": {},
   "outputs": [],
   "source": [
    "def get_prod_items(prod_items):\n",
    "    prod_data = []\n",
    "\n",
    "    for prod in prod_items:\n",
    "        title  = prod.select('p.prod_name > a')[0].text.strip()\n",
    "        spec_list = prod.select('div.spec_list')[0].text.strip()\n",
    "        price = prod.select('p.price_sect > a > strong')[0].text.strip().replace(',','')\n",
    "        prod_data.append([title, spec_list, price])\n",
    "\n",
    "    return prod_data\n"
   ]
  },
  {
   "cell_type": "code",
   "execution_count": null,
   "metadata": {},
   "outputs": [],
   "source": [
    "####################################################################\n",
    "# 자동으로 페이지 변경하면서 읽어오기 "
   ]
  },
  {
   "cell_type": "code",
   "execution_count": 30,
   "metadata": {},
   "outputs": [
    {
     "data": {
      "text/plain": [
       "'http://search.danawa.com/dsearch.php?query=무선청소기&volumeType=allvs&page=1&limit=40&sort=saveDESC&list=list&boost=true&addDelivery=N&recommendedSort=Y&defaultUICategoryCode=103740&defaultPhysicsCategoryCode=72%7C80%7C81%7C0&defaultVmTab=2332&defaultVaTab=107278&tab=goods'"
      ]
     },
     "execution_count": 30,
     "metadata": {},
     "output_type": "execute_result"
    }
   ],
   "source": [
    "def get_search_page_url(keyword, page):\n",
    "    return 'http://search.danawa.com/dsearch.php?query={}&volumeType=allvs&page={}&limit=40&sort=saveDESC&list=list&boost=true&addDelivery=N&recommendedSort=Y&defaultUICategoryCode=103740&defaultPhysicsCategoryCode=72%7C80%7C81%7C0&defaultVmTab=2332&defaultVaTab=107278&tab=goods'.format(keyword, page)\n",
    "\n",
    "keyword = '무선청소기'\n",
    "page = 1\n",
    "\n",
    "url = get_search_page_url(keyword, page)\n",
    "url"
   ]
  },
  {
   "cell_type": "code",
   "execution_count": 31,
   "metadata": {},
   "outputs": [
    {
     "name": "stdout",
     "output_type": "stream",
     "text": [
      "Requirement already satisfied: tqdm in c:\\programdata\\anaconda3\\lib\\site-packages (4.47.0)\n"
     ]
    }
   ],
   "source": [
    "#!pip install tqdm"
   ]
  },
  {
   "cell_type": "code",
   "execution_count": 33,
   "metadata": {},
   "outputs": [
    {
     "name": "stderr",
     "output_type": "stream",
     "text": [
      "<ipython-input-33-afe5f87ab986>:4: TqdmDeprecationWarning: This function will be removed in tqdm==5.0.0\n",
      "Please use `tqdm.notebook.tqdm` instead of `tqdm.tqdm_notebook`\n",
      "  for page in tqdm_notebook(range(1, total_page + 1)):\n"
     ]
    },
    {
     "data": {
      "application/vnd.jupyter.widget-view+json": {
       "model_id": "9b336eab05a844bea546818015553ca2",
       "version_major": 2,
       "version_minor": 0
      },
      "text/plain": [
       "HBox(children=(FloatProgress(value=0.0, max=10.0), HTML(value='')))"
      ]
     },
     "metadata": {},
     "output_type": "display_data"
    },
    {
     "name": "stdout",
     "output_type": "stream",
     "text": [
      "\n"
     ]
    }
   ],
   "source": [
    "import time\n",
    "from tqdm import tqdm_notebook\n",
    "total_page = 10\n",
    "for page in tqdm_notebook(range(1, total_page + 1)):\n",
    "    time.sleep(5)"
   ]
  },
  {
   "cell_type": "code",
   "execution_count": null,
   "metadata": {},
   "outputs": [],
   "source": []
  }
 ],
 "metadata": {
  "kernelspec": {
   "display_name": "Python 3",
   "language": "python",
   "name": "python3"
  },
  "language_info": {
   "codemirror_mode": {
    "name": "ipython",
    "version": 3
   },
   "file_extension": ".py",
   "mimetype": "text/x-python",
   "name": "python",
   "nbconvert_exporter": "python",
   "pygments_lexer": "ipython3",
   "version": "3.8.3"
  }
 },
 "nbformat": 4,
 "nbformat_minor": 4
}
